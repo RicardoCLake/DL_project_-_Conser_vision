{
  "cells": [
    {
      "cell_type": "markdown",
      "metadata": {
        "id": "c1ARny92oNw3"
      },
      "source": []
    },
    {
      "cell_type": "markdown",
      "metadata": {
        "id": "tDAtbG-7oNce"
      },
      "source": [
        "# Introduction to image classification using camera trap images"
      ]
    },
    {
      "cell_type": "code",
      "execution_count": 1,
      "metadata": {
        "id": "H3rM1jvrodDv",
        "colab": {
          "base_uri": "https://localhost:8080/"
        },
        "outputId": "343b8c77-c3e5-4d46-809d-d29d6fa2e868"
      },
      "outputs": [
        {
          "output_type": "stream",
          "name": "stdout",
          "text": [
            "Drive already mounted at /content/drive; to attempt to forcibly remount, call drive.mount(\"/content/drive\", force_remount=True).\n"
          ]
        }
      ],
      "source": [
        "from google.colab import drive\n",
        "drive.mount('/content/drive')"
      ]
    },
    {
      "cell_type": "code",
      "execution_count": 1,
      "metadata": {
        "id": "Zn2BIPZEqQ-S"
      },
      "outputs": [],
      "source": []
    },
    {
      "cell_type": "markdown",
      "metadata": {
        "id": "aF8jAIfYoNcg"
      },
      "source": [
        "## 1. Set up your environment\n",
        "\n",
        "```\n",
        "pip install pandas matplotlib Pillow tqdm scikit-learn torch torchvision\n",
        "```\n",
        "\n"
      ]
    },
    {
      "cell_type": "markdown",
      "metadata": {
        "id": "kEIUsB2XoNch"
      },
      "source": [
        "## 2. Download the data\n"
      ]
    },
    {
      "cell_type": "code",
      "execution_count": 2,
      "metadata": {
        "id": "a_fvQgWxoNci"
      },
      "outputs": [],
      "source": [
        "%matplotlib inline\n",
        "\n",
        "import matplotlib.pyplot as plt\n",
        "import pandas as pd\n",
        "from PIL import Image\n",
        "from tqdm import tqdm\n",
        "import torch"
      ]
    },
    {
      "cell_type": "code",
      "execution_count": 3,
      "metadata": {
        "id": "wpOizA8SoNck",
        "colab": {
          "base_uri": "https://localhost:8080/",
          "height": 105
        },
        "outputId": "45f5c764-2911-454b-e951-8d53311333cc"
      },
      "outputs": [
        {
          "output_type": "stream",
          "name": "stdout",
          "text": [
            "True\n",
            "1\n",
            "0\n",
            "<torch.cuda.device object at 0x7ce347b1bdf0>\n"
          ]
        },
        {
          "output_type": "execute_result",
          "data": {
            "text/plain": [
              "'Tesla T4'"
            ],
            "application/vnd.google.colaboratory.intrinsic+json": {
              "type": "string"
            }
          },
          "metadata": {},
          "execution_count": 3
        }
      ],
      "source": [
        "print(torch.cuda.is_available())\n",
        "print(torch.cuda.device_count())\n",
        "print(torch.cuda.current_device())\n",
        "\n",
        "print(torch.cuda.device(0))\n",
        "\n",
        "torch.cuda.get_device_name(0)"
      ]
    },
    {
      "cell_type": "code",
      "execution_count": 4,
      "metadata": {
        "id": "BKCD12UyoNcl"
      },
      "outputs": [],
      "source": [
        "drive_path = '/content/drive/My Drive/DL_project/'\n",
        "\n",
        "# Carregar os arquivos CSV\n",
        "train_features = pd.read_csv(f\"{drive_path}train_features.csv\", index_col=\"id\")\n",
        "test_features = pd.read_csv(f\"{drive_path}test_features.csv\", index_col=\"id\")\n",
        "train_labels = pd.read_csv(f\"{drive_path}train_labels.csv\", index_col=\"id\")\n",
        "import pandas as pd\n",
        "\n",
        "# Assuming train_features is your DataFrame and 'filepath' is the column with paths\n",
        "train_features['filepath'] = train_features['filepath'].apply(lambda x: f\"{drive_path}/train_features/{x.split('/')[-1]}\")\n",
        "\n",
        "# Save updated CSV\n",
        "train_features.to_csv(f\"{drive_path}train_features.csv\")\n",
        "\n",
        "\n",
        "# Assuming train_features is your DataFrame and 'filepath' is the column with paths\n",
        "test_features['filepath'] = test_features['filepath'].apply(lambda x: f\"{drive_path}/test_features/{x.split('/')[-1]}\")\n",
        "\n",
        "# Save updated CSV\n",
        "test_features.to_csv(f\"{drive_path}test_features.csv\")"
      ]
    },
    {
      "cell_type": "code",
      "execution_count": 5,
      "metadata": {
        "id": "tLgIoSjOoNcm",
        "colab": {
          "base_uri": "https://localhost:8080/",
          "height": 238
        },
        "outputId": "0b134771-60cf-4275-99ce-365be55261d3"
      },
      "outputs": [
        {
          "output_type": "execute_result",
          "data": {
            "text/plain": [
              "          antelope_duiker  bird  blank  civet_genet  hog  leopard  \\\n",
              "id                                                                  \n",
              "ZJ000000              0.0   1.0    0.0          0.0  0.0      0.0   \n",
              "ZJ000001              0.0   0.0    0.0          0.0  0.0      0.0   \n",
              "ZJ000002              0.0   1.0    0.0          0.0  0.0      0.0   \n",
              "ZJ000003              0.0   0.0    0.0          0.0  0.0      0.0   \n",
              "ZJ000004              0.0   0.0    0.0          0.0  0.0      1.0   \n",
              "\n",
              "          monkey_prosimian  rodent  \n",
              "id                                  \n",
              "ZJ000000               0.0     0.0  \n",
              "ZJ000001               1.0     0.0  \n",
              "ZJ000002               0.0     0.0  \n",
              "ZJ000003               1.0     0.0  \n",
              "ZJ000004               0.0     0.0  "
            ],
            "text/html": [
              "\n",
              "  <div id=\"df-6d3dcd13-7367-47c3-ab5f-e81ceeb20bf0\" class=\"colab-df-container\">\n",
              "    <div>\n",
              "<style scoped>\n",
              "    .dataframe tbody tr th:only-of-type {\n",
              "        vertical-align: middle;\n",
              "    }\n",
              "\n",
              "    .dataframe tbody tr th {\n",
              "        vertical-align: top;\n",
              "    }\n",
              "\n",
              "    .dataframe thead th {\n",
              "        text-align: right;\n",
              "    }\n",
              "</style>\n",
              "<table border=\"1\" class=\"dataframe\">\n",
              "  <thead>\n",
              "    <tr style=\"text-align: right;\">\n",
              "      <th></th>\n",
              "      <th>antelope_duiker</th>\n",
              "      <th>bird</th>\n",
              "      <th>blank</th>\n",
              "      <th>civet_genet</th>\n",
              "      <th>hog</th>\n",
              "      <th>leopard</th>\n",
              "      <th>monkey_prosimian</th>\n",
              "      <th>rodent</th>\n",
              "    </tr>\n",
              "    <tr>\n",
              "      <th>id</th>\n",
              "      <th></th>\n",
              "      <th></th>\n",
              "      <th></th>\n",
              "      <th></th>\n",
              "      <th></th>\n",
              "      <th></th>\n",
              "      <th></th>\n",
              "      <th></th>\n",
              "    </tr>\n",
              "  </thead>\n",
              "  <tbody>\n",
              "    <tr>\n",
              "      <th>ZJ000000</th>\n",
              "      <td>0.0</td>\n",
              "      <td>1.0</td>\n",
              "      <td>0.0</td>\n",
              "      <td>0.0</td>\n",
              "      <td>0.0</td>\n",
              "      <td>0.0</td>\n",
              "      <td>0.0</td>\n",
              "      <td>0.0</td>\n",
              "    </tr>\n",
              "    <tr>\n",
              "      <th>ZJ000001</th>\n",
              "      <td>0.0</td>\n",
              "      <td>0.0</td>\n",
              "      <td>0.0</td>\n",
              "      <td>0.0</td>\n",
              "      <td>0.0</td>\n",
              "      <td>0.0</td>\n",
              "      <td>1.0</td>\n",
              "      <td>0.0</td>\n",
              "    </tr>\n",
              "    <tr>\n",
              "      <th>ZJ000002</th>\n",
              "      <td>0.0</td>\n",
              "      <td>1.0</td>\n",
              "      <td>0.0</td>\n",
              "      <td>0.0</td>\n",
              "      <td>0.0</td>\n",
              "      <td>0.0</td>\n",
              "      <td>0.0</td>\n",
              "      <td>0.0</td>\n",
              "    </tr>\n",
              "    <tr>\n",
              "      <th>ZJ000003</th>\n",
              "      <td>0.0</td>\n",
              "      <td>0.0</td>\n",
              "      <td>0.0</td>\n",
              "      <td>0.0</td>\n",
              "      <td>0.0</td>\n",
              "      <td>0.0</td>\n",
              "      <td>1.0</td>\n",
              "      <td>0.0</td>\n",
              "    </tr>\n",
              "    <tr>\n",
              "      <th>ZJ000004</th>\n",
              "      <td>0.0</td>\n",
              "      <td>0.0</td>\n",
              "      <td>0.0</td>\n",
              "      <td>0.0</td>\n",
              "      <td>0.0</td>\n",
              "      <td>1.0</td>\n",
              "      <td>0.0</td>\n",
              "      <td>0.0</td>\n",
              "    </tr>\n",
              "  </tbody>\n",
              "</table>\n",
              "</div>\n",
              "    <div class=\"colab-df-buttons\">\n",
              "\n",
              "  <div class=\"colab-df-container\">\n",
              "    <button class=\"colab-df-convert\" onclick=\"convertToInteractive('df-6d3dcd13-7367-47c3-ab5f-e81ceeb20bf0')\"\n",
              "            title=\"Convert this dataframe to an interactive table.\"\n",
              "            style=\"display:none;\">\n",
              "\n",
              "  <svg xmlns=\"http://www.w3.org/2000/svg\" height=\"24px\" viewBox=\"0 -960 960 960\">\n",
              "    <path d=\"M120-120v-720h720v720H120Zm60-500h600v-160H180v160Zm220 220h160v-160H400v160Zm0 220h160v-160H400v160ZM180-400h160v-160H180v160Zm440 0h160v-160H620v160ZM180-180h160v-160H180v160Zm440 0h160v-160H620v160Z\"/>\n",
              "  </svg>\n",
              "    </button>\n",
              "\n",
              "  <style>\n",
              "    .colab-df-container {\n",
              "      display:flex;\n",
              "      gap: 12px;\n",
              "    }\n",
              "\n",
              "    .colab-df-convert {\n",
              "      background-color: #E8F0FE;\n",
              "      border: none;\n",
              "      border-radius: 50%;\n",
              "      cursor: pointer;\n",
              "      display: none;\n",
              "      fill: #1967D2;\n",
              "      height: 32px;\n",
              "      padding: 0 0 0 0;\n",
              "      width: 32px;\n",
              "    }\n",
              "\n",
              "    .colab-df-convert:hover {\n",
              "      background-color: #E2EBFA;\n",
              "      box-shadow: 0px 1px 2px rgba(60, 64, 67, 0.3), 0px 1px 3px 1px rgba(60, 64, 67, 0.15);\n",
              "      fill: #174EA6;\n",
              "    }\n",
              "\n",
              "    .colab-df-buttons div {\n",
              "      margin-bottom: 4px;\n",
              "    }\n",
              "\n",
              "    [theme=dark] .colab-df-convert {\n",
              "      background-color: #3B4455;\n",
              "      fill: #D2E3FC;\n",
              "    }\n",
              "\n",
              "    [theme=dark] .colab-df-convert:hover {\n",
              "      background-color: #434B5C;\n",
              "      box-shadow: 0px 1px 3px 1px rgba(0, 0, 0, 0.15);\n",
              "      filter: drop-shadow(0px 1px 2px rgba(0, 0, 0, 0.3));\n",
              "      fill: #FFFFFF;\n",
              "    }\n",
              "  </style>\n",
              "\n",
              "    <script>\n",
              "      const buttonEl =\n",
              "        document.querySelector('#df-6d3dcd13-7367-47c3-ab5f-e81ceeb20bf0 button.colab-df-convert');\n",
              "      buttonEl.style.display =\n",
              "        google.colab.kernel.accessAllowed ? 'block' : 'none';\n",
              "\n",
              "      async function convertToInteractive(key) {\n",
              "        const element = document.querySelector('#df-6d3dcd13-7367-47c3-ab5f-e81ceeb20bf0');\n",
              "        const dataTable =\n",
              "          await google.colab.kernel.invokeFunction('convertToInteractive',\n",
              "                                                    [key], {});\n",
              "        if (!dataTable) return;\n",
              "\n",
              "        const docLinkHtml = 'Like what you see? Visit the ' +\n",
              "          '<a target=\"_blank\" href=https://colab.research.google.com/notebooks/data_table.ipynb>data table notebook</a>'\n",
              "          + ' to learn more about interactive tables.';\n",
              "        element.innerHTML = '';\n",
              "        dataTable['output_type'] = 'display_data';\n",
              "        await google.colab.output.renderOutput(dataTable, element);\n",
              "        const docLink = document.createElement('div');\n",
              "        docLink.innerHTML = docLinkHtml;\n",
              "        element.appendChild(docLink);\n",
              "      }\n",
              "    </script>\n",
              "  </div>\n",
              "\n",
              "\n",
              "<div id=\"df-59f1fa3b-1e9f-4ec7-8572-29aa269cb2b7\">\n",
              "  <button class=\"colab-df-quickchart\" onclick=\"quickchart('df-59f1fa3b-1e9f-4ec7-8572-29aa269cb2b7')\"\n",
              "            title=\"Suggest charts\"\n",
              "            style=\"display:none;\">\n",
              "\n",
              "<svg xmlns=\"http://www.w3.org/2000/svg\" height=\"24px\"viewBox=\"0 0 24 24\"\n",
              "     width=\"24px\">\n",
              "    <g>\n",
              "        <path d=\"M19 3H5c-1.1 0-2 .9-2 2v14c0 1.1.9 2 2 2h14c1.1 0 2-.9 2-2V5c0-1.1-.9-2-2-2zM9 17H7v-7h2v7zm4 0h-2V7h2v10zm4 0h-2v-4h2v4z\"/>\n",
              "    </g>\n",
              "</svg>\n",
              "  </button>\n",
              "\n",
              "<style>\n",
              "  .colab-df-quickchart {\n",
              "      --bg-color: #E8F0FE;\n",
              "      --fill-color: #1967D2;\n",
              "      --hover-bg-color: #E2EBFA;\n",
              "      --hover-fill-color: #174EA6;\n",
              "      --disabled-fill-color: #AAA;\n",
              "      --disabled-bg-color: #DDD;\n",
              "  }\n",
              "\n",
              "  [theme=dark] .colab-df-quickchart {\n",
              "      --bg-color: #3B4455;\n",
              "      --fill-color: #D2E3FC;\n",
              "      --hover-bg-color: #434B5C;\n",
              "      --hover-fill-color: #FFFFFF;\n",
              "      --disabled-bg-color: #3B4455;\n",
              "      --disabled-fill-color: #666;\n",
              "  }\n",
              "\n",
              "  .colab-df-quickchart {\n",
              "    background-color: var(--bg-color);\n",
              "    border: none;\n",
              "    border-radius: 50%;\n",
              "    cursor: pointer;\n",
              "    display: none;\n",
              "    fill: var(--fill-color);\n",
              "    height: 32px;\n",
              "    padding: 0;\n",
              "    width: 32px;\n",
              "  }\n",
              "\n",
              "  .colab-df-quickchart:hover {\n",
              "    background-color: var(--hover-bg-color);\n",
              "    box-shadow: 0 1px 2px rgba(60, 64, 67, 0.3), 0 1px 3px 1px rgba(60, 64, 67, 0.15);\n",
              "    fill: var(--button-hover-fill-color);\n",
              "  }\n",
              "\n",
              "  .colab-df-quickchart-complete:disabled,\n",
              "  .colab-df-quickchart-complete:disabled:hover {\n",
              "    background-color: var(--disabled-bg-color);\n",
              "    fill: var(--disabled-fill-color);\n",
              "    box-shadow: none;\n",
              "  }\n",
              "\n",
              "  .colab-df-spinner {\n",
              "    border: 2px solid var(--fill-color);\n",
              "    border-color: transparent;\n",
              "    border-bottom-color: var(--fill-color);\n",
              "    animation:\n",
              "      spin 1s steps(1) infinite;\n",
              "  }\n",
              "\n",
              "  @keyframes spin {\n",
              "    0% {\n",
              "      border-color: transparent;\n",
              "      border-bottom-color: var(--fill-color);\n",
              "      border-left-color: var(--fill-color);\n",
              "    }\n",
              "    20% {\n",
              "      border-color: transparent;\n",
              "      border-left-color: var(--fill-color);\n",
              "      border-top-color: var(--fill-color);\n",
              "    }\n",
              "    30% {\n",
              "      border-color: transparent;\n",
              "      border-left-color: var(--fill-color);\n",
              "      border-top-color: var(--fill-color);\n",
              "      border-right-color: var(--fill-color);\n",
              "    }\n",
              "    40% {\n",
              "      border-color: transparent;\n",
              "      border-right-color: var(--fill-color);\n",
              "      border-top-color: var(--fill-color);\n",
              "    }\n",
              "    60% {\n",
              "      border-color: transparent;\n",
              "      border-right-color: var(--fill-color);\n",
              "    }\n",
              "    80% {\n",
              "      border-color: transparent;\n",
              "      border-right-color: var(--fill-color);\n",
              "      border-bottom-color: var(--fill-color);\n",
              "    }\n",
              "    90% {\n",
              "      border-color: transparent;\n",
              "      border-bottom-color: var(--fill-color);\n",
              "    }\n",
              "  }\n",
              "</style>\n",
              "\n",
              "  <script>\n",
              "    async function quickchart(key) {\n",
              "      const quickchartButtonEl =\n",
              "        document.querySelector('#' + key + ' button');\n",
              "      quickchartButtonEl.disabled = true;  // To prevent multiple clicks.\n",
              "      quickchartButtonEl.classList.add('colab-df-spinner');\n",
              "      try {\n",
              "        const charts = await google.colab.kernel.invokeFunction(\n",
              "            'suggestCharts', [key], {});\n",
              "      } catch (error) {\n",
              "        console.error('Error during call to suggestCharts:', error);\n",
              "      }\n",
              "      quickchartButtonEl.classList.remove('colab-df-spinner');\n",
              "      quickchartButtonEl.classList.add('colab-df-quickchart-complete');\n",
              "    }\n",
              "    (() => {\n",
              "      let quickchartButtonEl =\n",
              "        document.querySelector('#df-59f1fa3b-1e9f-4ec7-8572-29aa269cb2b7 button');\n",
              "      quickchartButtonEl.style.display =\n",
              "        google.colab.kernel.accessAllowed ? 'block' : 'none';\n",
              "    })();\n",
              "  </script>\n",
              "</div>\n",
              "\n",
              "    </div>\n",
              "  </div>\n"
            ],
            "application/vnd.google.colaboratory.intrinsic+json": {
              "type": "dataframe",
              "variable_name": "train_labels",
              "summary": "{\n  \"name\": \"train_labels\",\n  \"rows\": 16488,\n  \"fields\": [\n    {\n      \"column\": \"id\",\n      \"properties\": {\n        \"dtype\": \"string\",\n        \"num_unique_values\": 16488,\n        \"samples\": [\n          \"ZJ008416\",\n          \"ZJ009568\",\n          \"ZJ012401\"\n        ],\n        \"semantic_type\": \"\",\n        \"description\": \"\"\n      }\n    },\n    {\n      \"column\": \"antelope_duiker\",\n      \"properties\": {\n        \"dtype\": \"number\",\n        \"std\": 0.35712980436597846,\n        \"min\": 0.0,\n        \"max\": 1.0,\n        \"num_unique_values\": 2,\n        \"samples\": [\n          1.0,\n          0.0\n        ],\n        \"semantic_type\": \"\",\n        \"description\": \"\"\n      }\n    },\n    {\n      \"column\": \"bird\",\n      \"properties\": {\n        \"dtype\": \"number\",\n        \"std\": 0.2993772787333249,\n        \"min\": 0.0,\n        \"max\": 1.0,\n        \"num_unique_values\": 2,\n        \"samples\": [\n          0.0,\n          1.0\n        ],\n        \"semantic_type\": \"\",\n        \"description\": \"\"\n      }\n    },\n    {\n      \"column\": \"blank\",\n      \"properties\": {\n        \"dtype\": \"number\",\n        \"std\": 0.3408976104903266,\n        \"min\": 0.0,\n        \"max\": 1.0,\n        \"num_unique_values\": 2,\n        \"samples\": [\n          1.0,\n          0.0\n        ],\n        \"semantic_type\": \"\",\n        \"description\": \"\"\n      }\n    },\n    {\n      \"column\": \"civet_genet\",\n      \"properties\": {\n        \"dtype\": \"number\",\n        \"std\": 0.35407214906548046,\n        \"min\": 0.0,\n        \"max\": 1.0,\n        \"num_unique_values\": 2,\n        \"samples\": [\n          1.0,\n          0.0\n        ],\n        \"semantic_type\": \"\",\n        \"description\": \"\"\n      }\n    },\n    {\n      \"column\": \"hog\",\n      \"properties\": {\n        \"dtype\": \"number\",\n        \"std\": 0.236222095596124,\n        \"min\": 0.0,\n        \"max\": 1.0,\n        \"num_unique_values\": 2,\n        \"samples\": [\n          1.0,\n          0.0\n        ],\n        \"semantic_type\": \"\",\n        \"description\": \"\"\n      }\n    },\n    {\n      \"column\": \"leopard\",\n      \"properties\": {\n        \"dtype\": \"number\",\n        \"std\": 0.3435465790040888,\n        \"min\": 0.0,\n        \"max\": 1.0,\n        \"num_unique_values\": 2,\n        \"samples\": [\n          1.0,\n          0.0\n        ],\n        \"semantic_type\": \"\",\n        \"description\": \"\"\n      }\n    },\n    {\n      \"column\": \"monkey_prosimian\",\n      \"properties\": {\n        \"dtype\": \"number\",\n        \"std\": 0.3581963676867918,\n        \"min\": 0.0,\n        \"max\": 1.0,\n        \"num_unique_values\": 2,\n        \"samples\": [\n          1.0,\n          0.0\n        ],\n        \"semantic_type\": \"\",\n        \"description\": \"\"\n      }\n    },\n    {\n      \"column\": \"rodent\",\n      \"properties\": {\n        \"dtype\": \"number\",\n        \"std\": 0.3273982587341941,\n        \"min\": 0.0,\n        \"max\": 1.0,\n        \"num_unique_values\": 2,\n        \"samples\": [\n          1.0,\n          0.0\n        ],\n        \"semantic_type\": \"\",\n        \"description\": \"\"\n      }\n    }\n  ]\n}"
            }
          },
          "metadata": {},
          "execution_count": 5
        }
      ],
      "source": [
        "train_labels.head()"
      ]
    },
    {
      "cell_type": "markdown",
      "metadata": {
        "id": "-_bo1EHpoNcm"
      },
      "source": [
        "Store a sorted list of the labels, so that we can sort the inputs and outputs to our model in a consistent way."
      ]
    },
    {
      "cell_type": "code",
      "execution_count": 6,
      "metadata": {
        "id": "wC7ETCRSoNcn",
        "colab": {
          "base_uri": "https://localhost:8080/"
        },
        "outputId": "1db22cac-a272-48ce-c182-7bd7c7d18de2"
      },
      "outputs": [
        {
          "output_type": "execute_result",
          "data": {
            "text/plain": [
              "['antelope_duiker',\n",
              " 'bird',\n",
              " 'blank',\n",
              " 'civet_genet',\n",
              " 'hog',\n",
              " 'leopard',\n",
              " 'monkey_prosimian',\n",
              " 'rodent']"
            ]
          },
          "metadata": {},
          "execution_count": 6
        }
      ],
      "source": [
        "species_labels = sorted(train_labels.columns.unique())\n",
        "species_labels"
      ]
    },
    {
      "cell_type": "markdown",
      "metadata": {
        "id": "8pJIns9FoNco"
      },
      "source": [
        "## 3. Explore the data"
      ]
    },
    {
      "cell_type": "markdown",
      "metadata": {
        "id": "EHOymL_5oNco"
      },
      "source": [
        "Now let's see what some of the actual images look like. The code below iterates through a list of species and selects a single random image from each species to display, along with its image ID and label. You can try changing the `random_state` variable to display a new set of images."
      ]
    },
    {
      "cell_type": "code",
      "execution_count": 7,
      "metadata": {
        "id": "wqkiYszOoNco",
        "colab": {
          "base_uri": "https://localhost:8080/",
          "height": 88
        },
        "outputId": "de299faf-1d39-4892-d505-706c7093c0b8"
      },
      "outputs": [
        {
          "output_type": "execute_result",
          "data": {
            "text/plain": [
              "'import matplotlib.image as mpimg\\n\\nrandom_state = 42\\n\\n# we\\'ll create a grid with 8 positions, one for each label (7 species, plus blanks)\\nfig, axes = plt.subplots(nrows=4, ncols=2, figsize=(20, 20))\\n\\n# iterate through each species\\nfor species, ax in zip(species_labels, axes.flat):\\n    # get an image ID for this species\\n    img_id = (\\n        train_labels[train_labels.loc[:,species] == 1]\\n        .sample(1, random_state=random_state)\\n        .index[0]\\n    )\\n    # reads the filepath and returns a numpy array\\n    img = mpimg.imread(train_features.loc[img_id].filepath)\\n    # plot etc\\n    ax.imshow(img)\\n    ax.set_title(f\"{img_id} | {species}\")'"
            ],
            "application/vnd.google.colaboratory.intrinsic+json": {
              "type": "string"
            }
          },
          "metadata": {},
          "execution_count": 7
        }
      ],
      "source": [
        "'''import matplotlib.image as mpimg\n",
        "\n",
        "random_state = 42\n",
        "\n",
        "# we'll create a grid with 8 positions, one for each label (7 species, plus blanks)\n",
        "fig, axes = plt.subplots(nrows=4, ncols=2, figsize=(20, 20))\n",
        "\n",
        "# iterate through each species\n",
        "for species, ax in zip(species_labels, axes.flat):\n",
        "    # get an image ID for this species\n",
        "    img_id = (\n",
        "        train_labels[train_labels.loc[:,species] == 1]\n",
        "        .sample(1, random_state=random_state)\n",
        "        .index[0]\n",
        "    )\n",
        "    # reads the filepath and returns a numpy array\n",
        "    img = mpimg.imread(train_features.loc[img_id].filepath)\n",
        "    # plot etc\n",
        "    ax.imshow(img)\n",
        "    ax.set_title(f\"{img_id} | {species}\")'''"
      ]
    },
    {
      "cell_type": "markdown",
      "metadata": {
        "id": "GYTcKq0KoNcp"
      },
      "source": [
        "Let's look at the distribution of species across the training set, first in terms of overall counts and then in percentage terms."
      ]
    },
    {
      "cell_type": "code",
      "execution_count": 8,
      "metadata": {
        "id": "MZyJPEZzoNcp",
        "colab": {
          "base_uri": "https://localhost:8080/",
          "height": 335
        },
        "outputId": "0647a5ff-f0f7-4fea-ca9c-d10921e9a83d"
      },
      "outputs": [
        {
          "output_type": "execute_result",
          "data": {
            "text/plain": [
              "monkey_prosimian    2492.0\n",
              "antelope_duiker     2474.0\n",
              "civet_genet         2423.0\n",
              "leopard             2254.0\n",
              "blank               2213.0\n",
              "rodent              2013.0\n",
              "bird                1641.0\n",
              "hog                  978.0\n",
              "dtype: float64"
            ],
            "text/html": [
              "<div>\n",
              "<style scoped>\n",
              "    .dataframe tbody tr th:only-of-type {\n",
              "        vertical-align: middle;\n",
              "    }\n",
              "\n",
              "    .dataframe tbody tr th {\n",
              "        vertical-align: top;\n",
              "    }\n",
              "\n",
              "    .dataframe thead th {\n",
              "        text-align: right;\n",
              "    }\n",
              "</style>\n",
              "<table border=\"1\" class=\"dataframe\">\n",
              "  <thead>\n",
              "    <tr style=\"text-align: right;\">\n",
              "      <th></th>\n",
              "      <th>0</th>\n",
              "    </tr>\n",
              "  </thead>\n",
              "  <tbody>\n",
              "    <tr>\n",
              "      <th>monkey_prosimian</th>\n",
              "      <td>2492.0</td>\n",
              "    </tr>\n",
              "    <tr>\n",
              "      <th>antelope_duiker</th>\n",
              "      <td>2474.0</td>\n",
              "    </tr>\n",
              "    <tr>\n",
              "      <th>civet_genet</th>\n",
              "      <td>2423.0</td>\n",
              "    </tr>\n",
              "    <tr>\n",
              "      <th>leopard</th>\n",
              "      <td>2254.0</td>\n",
              "    </tr>\n",
              "    <tr>\n",
              "      <th>blank</th>\n",
              "      <td>2213.0</td>\n",
              "    </tr>\n",
              "    <tr>\n",
              "      <th>rodent</th>\n",
              "      <td>2013.0</td>\n",
              "    </tr>\n",
              "    <tr>\n",
              "      <th>bird</th>\n",
              "      <td>1641.0</td>\n",
              "    </tr>\n",
              "    <tr>\n",
              "      <th>hog</th>\n",
              "      <td>978.0</td>\n",
              "    </tr>\n",
              "  </tbody>\n",
              "</table>\n",
              "</div><br><label><b>dtype:</b> float64</label>"
            ]
          },
          "metadata": {},
          "execution_count": 8
        }
      ],
      "source": [
        "train_labels.sum().sort_values(ascending=False)"
      ]
    },
    {
      "cell_type": "code",
      "execution_count": 9,
      "metadata": {
        "id": "jAhK_qpmoNcq",
        "colab": {
          "base_uri": "https://localhost:8080/",
          "height": 335
        },
        "outputId": "f460f5bf-0d4d-4497-e5f7-2201f0b67733"
      },
      "outputs": [
        {
          "output_type": "execute_result",
          "data": {
            "text/plain": [
              "monkey_prosimian    0.151140\n",
              "antelope_duiker     0.150049\n",
              "civet_genet         0.146955\n",
              "leopard             0.136705\n",
              "blank               0.134219\n",
              "rodent              0.122089\n",
              "bird                0.099527\n",
              "hog                 0.059316\n",
              "dtype: float64"
            ],
            "text/html": [
              "<div>\n",
              "<style scoped>\n",
              "    .dataframe tbody tr th:only-of-type {\n",
              "        vertical-align: middle;\n",
              "    }\n",
              "\n",
              "    .dataframe tbody tr th {\n",
              "        vertical-align: top;\n",
              "    }\n",
              "\n",
              "    .dataframe thead th {\n",
              "        text-align: right;\n",
              "    }\n",
              "</style>\n",
              "<table border=\"1\" class=\"dataframe\">\n",
              "  <thead>\n",
              "    <tr style=\"text-align: right;\">\n",
              "      <th></th>\n",
              "      <th>0</th>\n",
              "    </tr>\n",
              "  </thead>\n",
              "  <tbody>\n",
              "    <tr>\n",
              "      <th>monkey_prosimian</th>\n",
              "      <td>0.151140</td>\n",
              "    </tr>\n",
              "    <tr>\n",
              "      <th>antelope_duiker</th>\n",
              "      <td>0.150049</td>\n",
              "    </tr>\n",
              "    <tr>\n",
              "      <th>civet_genet</th>\n",
              "      <td>0.146955</td>\n",
              "    </tr>\n",
              "    <tr>\n",
              "      <th>leopard</th>\n",
              "      <td>0.136705</td>\n",
              "    </tr>\n",
              "    <tr>\n",
              "      <th>blank</th>\n",
              "      <td>0.134219</td>\n",
              "    </tr>\n",
              "    <tr>\n",
              "      <th>rodent</th>\n",
              "      <td>0.122089</td>\n",
              "    </tr>\n",
              "    <tr>\n",
              "      <th>bird</th>\n",
              "      <td>0.099527</td>\n",
              "    </tr>\n",
              "    <tr>\n",
              "      <th>hog</th>\n",
              "      <td>0.059316</td>\n",
              "    </tr>\n",
              "  </tbody>\n",
              "</table>\n",
              "</div><br><label><b>dtype:</b> float64</label>"
            ]
          },
          "metadata": {},
          "execution_count": 9
        }
      ],
      "source": [
        "train_labels.sum().divide(train_labels.shape[0]).sort_values(ascending=False)"
      ]
    },
    {
      "cell_type": "markdown",
      "metadata": {
        "id": "u_2hJokFoNcq"
      },
      "source": [
        "## 4. Split into train and evaluation sets\n",
        "First, we'll need to split the images into train and eval sets. We'll put aside 25% of the data for evaluation and stratify by the target labels to ensure we have similar relative frequencies of each class in the train and eval sets."
      ]
    },
    {
      "cell_type": "markdown",
      "metadata": {
        "id": "2V64lCHtoNcq"
      },
      "source": [
        "For the purposes of this benchmark, we're also going to limit ourselves to a 50% subset of the training data, just so that things run faster. But feel free to adjust `frac` or remove it entirely if you want to run the training on the full set."
      ]
    },
    {
      "cell_type": "code",
      "execution_count": 10,
      "metadata": {
        "id": "MgbSk1wIoNcr"
      },
      "outputs": [],
      "source": [
        "from sklearn.model_selection import train_test_split\n",
        "\n",
        "frac = 0.5\n",
        "\n",
        "y = train_labels.sample(frac=frac, random_state=1)\n",
        "x = train_features.loc[y.index].filepath.to_frame()\n",
        "\n",
        "# note that we are casting the species labels to an indicator/dummy matrix\n",
        "x_train, x_eval, y_train, y_eval = train_test_split(\n",
        "    x, y, stratify=y, test_size=0.25\n",
        ")"
      ]
    },
    {
      "cell_type": "code",
      "execution_count": 11,
      "metadata": {
        "id": "gCK_65NnoNcr",
        "colab": {
          "base_uri": "https://localhost:8080/"
        },
        "outputId": "df4c9c90-d4db-49c1-d854-8edd3d47af04"
      },
      "outputs": [
        {
          "output_type": "execute_result",
          "data": {
            "text/plain": [
              "((6183, 1), (6183, 8), (2061, 1), (2061, 8))"
            ]
          },
          "metadata": {},
          "execution_count": 11
        }
      ],
      "source": [
        "x_train.shape, y_train.shape, x_eval.shape, y_eval.shape"
      ]
    },
    {
      "cell_type": "markdown",
      "metadata": {
        "id": "kaZY9TiKoNcr"
      },
      "source": [
        "## 5. Build the Model"
      ]
    },
    {
      "cell_type": "markdown",
      "metadata": {
        "id": "V8rPmZm0oNcs"
      },
      "source": [
        "### The Dataset\n",
        "\n",
        "First, we'll create an `ImagesDataset` class that will define how we access our data and any transformations we might want to apply.\n",
        "\n",
        "This new class will inherit from the PyTorch [`Dataset`](https://pytorch.org/tutorials/beginner/basics/data_tutorial.html) class, but we'll also need to define our own `__init__`, `__len__` and `__getitem__` **special methods**:\n",
        "* **`__init__`** will instantiate the dataset object with two dataframes: an `x_train` df containing image IDs and image file paths, and a `y_train` df containing image IDs and labels. This will run once when we first create the dataset object, e.g. with `dataset = ImagesDataset(x_train, y_train)`.\n",
        "* **`__getitem__`** will define how we access a sample from the data. This method gets called whenever we use an indexing operation like `dataset[index]`. In this case, whenever accessing a particular image sample (for example, to get the first image we'd do `dataset[0]`) the following will happen:\n",
        "  * look up the image filepath using the index\n",
        "  * load the image with [`PIL.Image`](https://pillow.readthedocs.io/en/stable/reference/Image.html)\n",
        "  * apply some transformations (more on this below)\n",
        "  * return a dictionary containing the image ID, the image itself as a Tensor, and a label (if it exists)\n",
        "* **`__len__`** simply returns the size of the dataset, which we do by calling `len` on the input dataframe."
      ]
    },
    {
      "cell_type": "code",
      "execution_count": 12,
      "metadata": {
        "id": "Df6IuWWFoNcs"
      },
      "outputs": [],
      "source": [
        "import torch\n",
        "from torch.utils.data import Dataset\n",
        "from torchvision import transforms\n",
        "\n",
        "\n",
        "class ImagesDataset(Dataset):\n",
        "    \"\"\"Reads in an image, transforms pixel values, and serves\n",
        "    a dictionary containing the image id, image tensors, and label.\n",
        "    \"\"\"\n",
        "\n",
        "    def __init__(self, x_df, y_df=None):\n",
        "        self.data = x_df\n",
        "        self.label = y_df\n",
        "        self.transform = transforms.Compose(\n",
        "            [\n",
        "                transforms.Resize((224, 224)),\n",
        "                transforms.ToTensor(),\n",
        "                transforms.Normalize(\n",
        "                    mean=(0.485, 0.456, 0.406), std=(0.229, 0.224, 0.225)\n",
        "                ),\n",
        "            ]\n",
        "        )\n",
        "\n",
        "    def __getitem__(self, index):\n",
        "        image = Image.open(self.data.iloc[index][\"filepath\"]).convert(\"RGB\")\n",
        "        image = self.transform(image)\n",
        "        image_id = self.data.index[index]\n",
        "        # if we don't have labels (e.g. for test set) just return the image and image id\n",
        "        if self.label is None:\n",
        "            sample = {\"image_id\": image_id, \"image\": image}\n",
        "        else:\n",
        "            label = torch.tensor(self.label.iloc[index].values,\n",
        "                                 dtype=torch.float)\n",
        "            sample = {\"image_id\": image_id, \"image\": image, \"label\": label}\n",
        "        return sample\n",
        "\n",
        "    def __len__(self):\n",
        "        return len(self.data)"
      ]
    },
    {
      "cell_type": "markdown",
      "metadata": {
        "id": "pkJWdyvroNcs"
      },
      "source": [
        "Notice that we are also defining a set of **transformations**, which are defined in the `__init__` and called in the `__getitem__` special methods. These are applied to each image before returning it. Here's what each of those transformations do and why:\n",
        "\n",
        "* `transforms.Resize((224, 224))` ResNet50 was trained on images of size 224x224 so we resize to the same dimensions here. See [pytorch docs](https://pytorch.org/vision/stable/models.html) and the [ResNet paper](https://arxiv.org/pdf/1512.03385.pdf).\n",
        "* `transforms.ToTensor()` converts the image to a tensor. Since we are passing in a PIL Image at this point, PyTorch can recognize it as an RGB image and will automatically convert the input values which are in the range [0, 255] to a range of [0, 1]. See more from the [PyTorch docs](https://pytorch.org/vision/main/generated/torchvision.transforms.ToTensor.html).\n",
        "* `transforms.Normalize(...)` normalizes the image tensors using the mean and standard deviation of ImageNet images. Because this transformation was applied to images when training the ResNet model, we want to do the same here with our images. See more from the [PyTorch docs on pretrained models](https://pytorch.org/vision/stable/models.html)."
      ]
    },
    {
      "cell_type": "markdown",
      "metadata": {
        "id": "Heo7UG3GoNcs"
      },
      "source": [
        "### The DataLoader\n"
      ]
    },
    {
      "cell_type": "code",
      "execution_count": 13,
      "metadata": {
        "id": "l7N-zaFzoNct",
        "colab": {
          "base_uri": "https://localhost:8080/"
        },
        "outputId": "4bbf2218-c8b3-4a79-aee7-4af6bfa087a2"
      },
      "outputs": [
        {
          "output_type": "stream",
          "name": "stderr",
          "text": [
            "/usr/local/lib/python3.10/dist-packages/torch/utils/data/dataloader.py:617: UserWarning: This DataLoader will create 8 worker processes in total. Our suggested max number of worker in current system is 2, which is smaller than what this DataLoader is going to create. Please be aware that excessive worker creation might get DataLoader running slow or even freeze, lower the worker number to avoid potential slowness/freeze if necessary.\n",
            "  warnings.warn(\n"
          ]
        }
      ],
      "source": [
        "from torch.utils.data import DataLoader\n",
        "\n",
        "train_dataset = ImagesDataset(x_train, y_train)\n",
        "train_dataloader = DataLoader(train_dataset, batch_size=32, num_workers=8)"
      ]
    },
    {
      "cell_type": "markdown",
      "metadata": {
        "id": "zZA1LbRJoNct"
      },
      "source": [
        "## 6. Training\n",
        "Now it's time to start building our model and then training it.\n",
        "\n",
        "We'll use a pretrained ResNet50 model as our backbone. ResNets are one of the more popular networks for image classification tasks. The pretrained model outputs a 2048-dimension embedding, which we will then connect to two more dense layers, with a ReLU and Dropout step in between.\n",
        "\n",
        "These final layers, defined in `model.fc`, are the new \"head\" of our model, and allow us to transform the image embeddings produced by the pretrained \"backbone\" into the 8-dimensional output required to learn the species classification task we're tackling here. Prior to redefining it below, `model.fc` would be the final, dense layer connecting the 2048-dimension embedding to a 1000-dimension output (corresponding to the 1000 ImageNet classes that the pretrained model was trained on). We will instead prepare the model for the current task by redefining `model.fc` to produce an 8-dimensional output corresponding to our 8 species classes (including blanks).\n",
        "\n",
        "We'll also add a couple more layers in between. The `ReLU` layer introduces non-linearity into the model head, in effect activating important features and suppressing noise. And the `Dropout` layer is a commonly used regularization component that randomly drops some nodes from the previous layer's outputs (10% of nodes in this case) during each training step, mitigating our risk of overfitting."
      ]
    },
    {
      "cell_type": "code",
      "execution_count": 14,
      "metadata": {
        "id": "mUJe3DxNoNct",
        "colab": {
          "base_uri": "https://localhost:8080/"
        },
        "outputId": "d6e637bc-bce0-4e31-8dbb-14a154d153db"
      },
      "outputs": [
        {
          "output_type": "stream",
          "name": "stderr",
          "text": [
            "/usr/local/lib/python3.10/dist-packages/torchvision/models/_utils.py:208: UserWarning: The parameter 'pretrained' is deprecated since 0.13 and may be removed in the future, please use 'weights' instead.\n",
            "  warnings.warn(\n",
            "/usr/local/lib/python3.10/dist-packages/torchvision/models/_utils.py:223: UserWarning: Arguments other than a weight enum or `None` for 'weights' are deprecated since 0.13 and may be removed in the future. The current behavior is equivalent to passing `weights=ResNet50_Weights.IMAGENET1K_V1`. You can also use `weights=ResNet50_Weights.DEFAULT` to get the most up-to-date weights.\n",
            "  warnings.warn(msg)\n"
          ]
        }
      ],
      "source": [
        "from torch import nn\n",
        "import torchvision.models as models\n",
        "from torchvision.models import resnet50, ResNet50_Weights\n",
        "\n",
        "model = models.resnet50(pretrained = True)\n",
        "model.fc = nn.Sequential(\n",
        "    nn.Linear(2048, 100),  # dense layer takes a 2048-dim input and outputs 100-dim\n",
        "    nn.ReLU(inplace=True),  # ReLU activation introduces non-linearity\n",
        "    nn.Dropout(0.1),  # common technique to mitigate overfitting\n",
        "    nn.Linear(\n",
        "        100, 8\n",
        "    ),  # final dense layer outputs 8-dim corresponding to our target classes\n",
        ")"
      ]
    },
    {
      "cell_type": "markdown",
      "metadata": {
        "id": "ryP1mPoGoNct"
      },
      "source": [
        "### Moving model to cuda"
      ]
    },
    {
      "cell_type": "code",
      "execution_count": 15,
      "metadata": {
        "id": "ba_ylhD7oNcu",
        "colab": {
          "base_uri": "https://localhost:8080/"
        },
        "outputId": "4981569a-750d-46fb-ee3f-34b7719763da"
      },
      "outputs": [
        {
          "output_type": "stream",
          "name": "stdout",
          "text": [
            "Device: cuda\n"
          ]
        }
      ],
      "source": [
        "# Cria o modelo e move para a GPU (se disponível)\n",
        "device = torch.device(\"cuda\" if torch.cuda.is_available() else \"cpu\")\n",
        "print(f\"Device: {device}\")\n",
        "\n",
        "model = model.to(device)"
      ]
    },
    {
      "cell_type": "markdown",
      "metadata": {
        "id": "B1iLST68oNcu"
      },
      "source": [
        "### Define our loss function\n",
        "Cross entropy loss (or log loss) is a commonly used loss function for multi-class (not multi-label) image classification. We'll use this to compute loss for each training batch and then update our parameters accordingly."
      ]
    },
    {
      "cell_type": "code",
      "source": [
        "import torch.nn.functional as F\n"
      ],
      "metadata": {
        "id": "e-eb2MHxRYOh"
      },
      "execution_count": 16,
      "outputs": []
    },
    {
      "cell_type": "code",
      "source": [],
      "metadata": {
        "id": "74TX8eCcY90y"
      },
      "execution_count": 16,
      "outputs": []
    },
    {
      "cell_type": "code",
      "source": [
        "class LabelSmoothingLoss(nn.Module):\n",
        "    def __init__(self, num_classes, smoothing=0.1):\n",
        "        super(LabelSmoothingLoss, self).__init__()\n",
        "        self.num_classes = num_classes\n",
        "        self.smoothing = smoothing\n",
        "\n",
        "    def forward(self, pred, target):\n",
        "        pred = F.log_softmax(pred, dim=1)  # Log-softmax diretamente nas previsões\n",
        "        with torch.no_grad():\n",
        "            true_dist = torch.full_like(pred, self.smoothing / (self.num_classes - 1))  # Criação vetorizada\n",
        "            true_dist.scatter_(1, target.unsqueeze(1), 1.0 - self.smoothing)\n",
        "        return torch.mean(torch.sum(-true_dist * pred, dim=1))\n",
        "\n",
        "# Focal Loss\n",
        "class FocalLoss(nn.Module):\n",
        "    def __init__(self, gamma=2, alpha=0.25):\n",
        "        super(FocalLoss, self).__init__()\n",
        "        self.gamma = gamma\n",
        "        self.alpha = alpha\n",
        "\n",
        "    def forward(self, pred, target):\n",
        "        ce_loss = F.cross_entropy(pred, target, reduction='none')  # CE Loss por batch\n",
        "        pt = torch.exp(-ce_loss)  # Probabilidade do rótulo correto\n",
        "        loss = self.alpha * (1 - pt).pow(self.gamma) * ce_loss  # Evita uso excessivo de memória\n",
        "        return loss.mean()\n",
        "\n",
        "# KL Divergence Loss\n",
        "class KLDivergenceLoss(nn.Module):\n",
        "    def __init__(self):\n",
        "        super(KLDivergenceLoss, self).__init__()\n",
        "\n",
        "    def forward(self, pred, target):\n",
        "        pred = F.log_softmax(pred, dim=1)  # Log-probabilidades\n",
        "        target = F.one_hot(target, num_classes=pred.size(1)).float().to(pred.device)  # One-hot no mesmo dispositivo\n",
        "        return F.kl_div(pred, target, reduction='batchmean')\n"
      ],
      "metadata": {
        "id": "Z_mF_VFgRHIZ"
      },
      "execution_count": 17,
      "outputs": []
    },
    {
      "cell_type": "code",
      "source": [
        "num_classes = len(train_labels.columns)\n",
        "\n",
        "loss_functions = {\n",
        "    \"Label Smoothing\": LabelSmoothingLoss(num_classes=num_classes),\n",
        "    \"CrossEntropy\": nn.CrossEntropyLoss(),\n",
        "    \"FocalLoss\": FocalLoss(),\n",
        "    \"KLDivergence\": KLDivergenceLoss(),\n",
        "}\n",
        "\n"
      ],
      "metadata": {
        "id": "OaCv9d0QSjSt"
      },
      "execution_count": 18,
      "outputs": []
    },
    {
      "cell_type": "code",
      "source": [
        "def get_loss_function(loss_name):\n",
        "    return loss_functions[loss_name]\n",
        "\n",
        "def set_loss_function(loss_name):\n",
        "    global loss_function\n",
        "    loss_function = get_loss_function(loss_name)\n",
        "    return loss_function # This line was added to return the selected loss function\n",
        "\n"
      ],
      "metadata": {
        "id": "XQmQD1LxZSr3"
      },
      "execution_count": 19,
      "outputs": []
    },
    {
      "cell_type": "code",
      "execution_count": 20,
      "metadata": {
        "id": "YIxUfvbboNcu"
      },
      "outputs": [],
      "source": [
        "import torch.optim as optim\n",
        "loss_name = \"CrossEntropy\"\n",
        "criterion = set_loss_function(loss_name)\n",
        "optimizer = optim.SGD(model.parameters(), lr=0.001, momentum=0.9)"
      ]
    },
    {
      "cell_type": "markdown",
      "metadata": {
        "id": "bt3VbEy_oNcv"
      },
      "source": [
        "### Train the model\n",
        "We're now ready to train our model!\n",
        "\n",
        "We'll start simple and just run it for one epoch, but feel free to run it for more `num_epochs` if you've got the time. We hope to see a decreasing loss as training progresses, which will provide some evidence that the model is learning. Note that we haven't frozen any weights in the pretrained model, a choice which you may want to revisit and we discuss in a little more detail below.\n",
        "\n",
        "For each epoch we'll iterate through the batches, and for each batch we'll do the following:\n",
        "1. Zero out the gradients. PyTorch will sum the gradients from past batches when doing its backward pass, so in order to make sure we are only using the gradients computed for the current batch, we zero out the gradients at the beginning of each batch.\n",
        "2. Run the forward pass.\n",
        "3. Compute the loss and track it.\n",
        "4. Compute our gradients and update our weight parameters."
      ]
    },
    {
      "cell_type": "code",
      "execution_count": 21,
      "metadata": {
        "id": "-AC6N1wSoNcv",
        "colab": {
          "base_uri": "https://localhost:8080/"
        },
        "outputId": "84aecde4-08eb-442c-9900-e50eaad9d5b7"
      },
      "outputs": [
        {
          "output_type": "stream",
          "name": "stdout",
          "text": [
            "Starting epoch 1\n"
          ]
        },
        {
          "output_type": "stream",
          "name": "stderr",
          "text": [
            "100%|██████████| 194/194 [01:38<00:00,  1.96it/s, loss=2.09]\n"
          ]
        }
      ],
      "source": [
        "num_epochs = 1\n",
        "\n",
        "tracking_loss = {}\n",
        "\n",
        "# clear out the GPU memory cache\n",
        "torch.cuda.empty_cache()\n",
        "\n",
        "for epoch in range(1, num_epochs + 1):\n",
        "    print(f\"Starting epoch {epoch}\")\n",
        "\n",
        "    # iterate through the dataloader batches. tqdm keeps track of progress.\n",
        "    pbar = tqdm(enumerate(train_dataloader), total=len(train_dataloader))\n",
        "    for batch_n, batch in pbar:\n",
        "        # 0) move the data to the GPU\n",
        "        batch[\"image\"] = batch[\"image\"].to(device)\n",
        "        batch[\"label\"] = batch[\"label\"].to(device)\n",
        "\n",
        "        # 0.2) monitor the GPU memory usage\n",
        "        # allocated_memory = torch.cuda.memory_allocated(device) / 1024**2  # MB\n",
        "        # reserved_memory = torch.cuda.memory_reserved(device) / 1024**2  # MB\n",
        "        # max_memory = torch.cuda.max_memory_allocated(device) / 1024**2  # MB\n",
        "        # pbar.set_description(f\"Alocated: {allocated_memory:.2f}MB - Reserved: {reserved_memory:.2f}MB ({device}) - Max: {max_memory:.2f}MB | \")\n",
        "\n",
        "        # 1) zero out the parameter gradients so that gradients from previous batches are not used in this step\n",
        "        optimizer.zero_grad()\n",
        "\n",
        "        # 2) run the foward step on this batch of images\n",
        "        outputs = model(batch[\"image\"])\n",
        "\n",
        "        #3) Seletor para ajustar o target conforme a função de perda\n",
        "        if isinstance(loss_function, nn.CrossEntropyLoss) or isinstance(loss_function, FocalLoss):\n",
        "            # Para CrossEntropy e FocalLoss, usamos o target como índice de classe\n",
        "            target = batch[\"label\"]  # One-hot -> índice de classe\n",
        "        elif isinstance(loss_function, LabelSmoothingLoss):\n",
        "            # Para LabelSmoothing, o target já é um índice de classe, então usamos direto\n",
        "            target = torch.argmax(batch[\"label\"], dim=1) # O LabelSmoothing já lida com o formato one-hot internamente\n",
        "        elif isinstance(loss_function, KLDivergenceLoss):\n",
        "            # Para KLDivergence, o target deve ser one-hot\n",
        "            target = torch.argmax(batch[\"label\"], dim=1)  # One-hot -> índice de classe\n",
        "        else:\n",
        "            raise ValueError(\"Função de perda não suportada!\")\n",
        "        # 3) compute the loss\n",
        "        loss = criterion(outputs, target)\n",
        "        # let's keep track of the loss by epoch and batch\n",
        "        tracking_loss[(epoch, batch_n)] = float(loss)\n",
        "\n",
        "        # 4) compute our gradients\n",
        "        loss.backward()\n",
        "        # update our weights\n",
        "        optimizer.step()\n",
        "\n",
        "        # 5) clear out the GPU memory cache\n",
        "        torch.cuda.empty_cache()\n",
        "        pbar.set_postfix(loss=loss.item())\n",
        "\n",
        "\n"
      ]
    },
    {
      "cell_type": "markdown",
      "metadata": {
        "id": "sQ4-lEl6oNcv"
      },
      "source": [
        "Now let's plot the loss by epoch and batch. The x-axis here is a tuple of `(epoch, batch)`."
      ]
    },
    {
      "cell_type": "code",
      "execution_count": 22,
      "metadata": {
        "id": "56cl3Fm0oNcw",
        "colab": {
          "base_uri": "https://localhost:8080/",
          "height": 504
        },
        "outputId": "b33950e7-78f2-47e3-e06f-08fa67a60533"
      },
      "outputs": [
        {
          "output_type": "execute_result",
          "data": {
            "text/plain": [
              "<matplotlib.legend.Legend at 0x7ce2623380a0>"
            ]
          },
          "metadata": {},
          "execution_count": 22
        },
        {
          "output_type": "display_data",
          "data": {
            "text/plain": [
              "<Figure size 1000x500 with 1 Axes>"
            ],
            "image/png": "[encoded data removed]"
          },
          "metadata": {}
        }
      ],
      "source": [
        "tracking_loss = pd.Series(tracking_loss)\n",
        "\n",
        "plt.figure(figsize=(10, 5))\n",
        "tracking_loss.plot(alpha=0.2, label=\"loss\")\n",
        "tracking_loss.rolling(center=True, min_periods=1, window=10).mean().plot(\n",
        "    label=\"loss (moving avg)\"\n",
        ")\n",
        "plt.title(f\"Loss for {loss_name}\")\n",
        "plt.xlabel(\"(Epoch, Batch)\")\n",
        "plt.ylabel(\"Loss\")\n",
        "plt.legend(loc=0)"
      ]
    },
    {
      "cell_type": "markdown",
      "metadata": {
        "id": "JSgBbvAMoNcw"
      },
      "source": [
        "Good news, the loss is going down! This is an encouraging start, especially since we haven't done anything fancy yet."
      ]
    },
    {
      "cell_type": "markdown",
      "metadata": {
        "id": "EYfluhrooNcw"
      },
      "source": [
        "### Save the model\n",
        "We have the model loaded in memory already, so we don't really need to save the model, but it's often useful to do this so we can use it again later.\n",
        "\n",
        "Here's how:"
      ]
    },
    {
      "cell_type": "code",
      "execution_count": 23,
      "metadata": {
        "id": "C-e3B33toNcw"
      },
      "outputs": [],
      "source": [
        "torch.save(model, f\"model1_{loss_name}.pth\")"
      ]
    },
    {
      "cell_type": "markdown",
      "metadata": {
        "id": "jyvauk-LoNcx"
      },
      "source": [
        "## 7. Evaluation\n",
        "So far, not so bad. We've shown an improvement in the loss on the training set, but that tells us little about how our model will do on new data. Let's reload our saved model and try generating some predictions on the evaluation split we created earlier."
      ]
    },
    {
      "cell_type": "code",
      "execution_count": 24,
      "metadata": {
        "id": "jr0aqucIoNc2",
        "colab": {
          "base_uri": "https://localhost:8080/"
        },
        "outputId": "c97f58d8-1e83-4775-e738-3d1a06132261"
      },
      "outputs": [
        {
          "output_type": "stream",
          "name": "stderr",
          "text": [
            "<ipython-input-24-a676eaaa4b74>:1: FutureWarning: You are using `torch.load` with `weights_only=False` (the current default value), which uses the default pickle module implicitly. It is possible to construct malicious pickle data which will execute arbitrary code during unpickling (See https://github.com/pytorch/pytorch/blob/main/SECURITY.md#untrusted-models for more details). In a future release, the default value for `weights_only` will be flipped to `True`. This limits the functions that could be executed during unpickling. Arbitrary objects will no longer be allowed to be loaded via this mode unless they are explicitly allowlisted by the user via `torch.serialization.add_safe_globals`. We recommend you start setting `weights_only=True` for any use case where you don't have full control of the loaded file. Please open an issue on GitHub for any issues related to this experimental feature.\n",
            "  loaded_model = torch.load(f\"model1_{loss_name}.pth\")\n"
          ]
        }
      ],
      "source": [
        "loaded_model = torch.load(f\"model1_{loss_name}.pth\")"
      ]
    },
    {
      "cell_type": "markdown",
      "metadata": {
        "id": "Jxh8Q7Y3oNc3"
      },
      "source": [
        "We create the eval dataset and dataloader just like we did earlier with the training dataset and dataloader:"
      ]
    },
    {
      "cell_type": "code",
      "execution_count": 25,
      "metadata": {
        "id": "GwNou8OQoNc3"
      },
      "outputs": [],
      "source": [
        "eval_dataset = ImagesDataset(x_eval, y_eval)\n",
        "eval_dataloader = DataLoader(eval_dataset, batch_size=32)"
      ]
    },
    {
      "cell_type": "markdown",
      "metadata": {
        "id": "vFYgifUjoNc3"
      },
      "source": [
        "### Make predictions\n",
        "We'll iterate through the eval dataloader in batches, just like we did for training, but this time we aren't going to need to compute gradients or update weights. For each batch, we'll do the following:\n",
        "1. Run the forward pass to get the model output or logits\n",
        "2. Apply a softmax function to convert the logits into probability space with range[0,1]. During training, the softmax operation was handled internally by `nn.CrossEntropyLoss`. We aren't computing the loss now because we are just doing evaluation, but we still want the predictions to be in the range[0,1].\n",
        "3. Store the results in a dataframe for further analysis"
      ]
    },
    {
      "cell_type": "code",
      "execution_count": 26,
      "metadata": {
        "id": "09CxhwRloNc4",
        "colab": {
          "base_uri": "https://localhost:8080/",
          "height": 441
        },
        "outputId": "c32401d1-318a-4e58-db0d-b2ce1a7b7770"
      },
      "outputs": [
        {
          "output_type": "stream",
          "name": "stderr",
          "text": [
            "100%|██████████| 65/65 [00:25<00:00,  2.58it/s]\n"
          ]
        },
        {
          "output_type": "execute_result",
          "data": {
            "text/plain": [
              "          antelope_duiker      bird     blank  civet_genet       hog  \\\n",
              "ZJ008045         0.256810  0.175067  0.141014     0.016257  0.065356   \n",
              "ZJ015719         0.111361  0.039858  0.127406     0.059197  0.167497   \n",
              "ZJ013543         0.312278  0.129441  0.136001     0.038396  0.033106   \n",
              "ZJ001126         0.141850  0.103740  0.103334     0.004194  0.009475   \n",
              "ZJ013411         0.280593  0.167351  0.118900     0.030433  0.046393   \n",
              "...                   ...       ...       ...          ...       ...   \n",
              "ZJ014794         0.142267  0.174787  0.214486     0.007502  0.037294   \n",
              "ZJ009406         0.173780  0.093664  0.059791     0.002720  0.005577   \n",
              "ZJ007374         0.261504  0.203067  0.116001     0.019429  0.038085   \n",
              "ZJ012352         0.210236  0.235247  0.131069     0.015790  0.048082   \n",
              "ZJ016391         0.113720  0.101238  0.293731     0.009633  0.031778   \n",
              "\n",
              "           leopard  monkey_prosimian    rodent  \n",
              "ZJ008045  0.084259          0.196735  0.064502  \n",
              "ZJ015719  0.305394          0.048521  0.140766  \n",
              "ZJ013543  0.019064          0.235542  0.096173  \n",
              "ZJ001126  0.017916          0.600941  0.018550  \n",
              "ZJ013411  0.024362          0.228748  0.103220  \n",
              "...            ...               ...       ...  \n",
              "ZJ014794  0.124162          0.265044  0.034457  \n",
              "ZJ009406  0.008981          0.640958  0.014531  \n",
              "ZJ007374  0.027982          0.263772  0.070159  \n",
              "ZJ012352  0.049173          0.255138  0.055265  \n",
              "ZJ016391  0.211299          0.202442  0.036159  \n",
              "\n",
              "[2061 rows x 8 columns]"
            ],
            "text/html": [
              "\n",
              "  <div id=\"df-88ba94ee-24da-4075-95e1-703cd0f8cc1a\" class=\"colab-df-container\">\n",
              "    <div>\n",
              "<style scoped>\n",
              "    .dataframe tbody tr th:only-of-type {\n",
              "        vertical-align: middle;\n",
              "    }\n",
              "\n",
              "    .dataframe tbody tr th {\n",
              "        vertical-align: top;\n",
              "    }\n",
              "\n",
              "    .dataframe thead th {\n",
              "        text-align: right;\n",
              "    }\n",
              "</style>\n",
              "<table border=\"1\" class=\"dataframe\">\n",
              "  <thead>\n",
              "    <tr style=\"text-align: right;\">\n",
              "      <th></th>\n",
              "      <th>antelope_duiker</th>\n",
              "      <th>bird</th>\n",
              "      <th>blank</th>\n",
              "      <th>civet_genet</th>\n",
              "      <th>hog</th>\n",
              "      <th>leopard</th>\n",
              "      <th>monkey_prosimian</th>\n",
              "      <th>rodent</th>\n",
              "    </tr>\n",
              "  </thead>\n",
              "  <tbody>\n",
              "    <tr>\n",
              "      <th>ZJ008045</th>\n",
              "      <td>0.256810</td>\n",
              "      <td>0.175067</td>\n",
              "      <td>0.141014</td>\n",
              "      <td>0.016257</td>\n",
              "      <td>0.065356</td>\n",
              "      <td>0.084259</td>\n",
              "      <td>0.196735</td>\n",
              "      <td>0.064502</td>\n",
              "    </tr>\n",
              "    <tr>\n",
              "      <th>ZJ015719</th>\n",
              "      <td>0.111361</td>\n",
              "      <td>0.039858</td>\n",
              "      <td>0.127406</td>\n",
              "      <td>0.059197</td>\n",
              "      <td>0.167497</td>\n",
              "      <td>0.305394</td>\n",
              "      <td>0.048521</td>\n",
              "      <td>0.140766</td>\n",
              "    </tr>\n",
              "    <tr>\n",
              "      <th>ZJ013543</th>\n",
              "      <td>0.312278</td>\n",
              "      <td>0.129441</td>\n",
              "      <td>0.136001</td>\n",
              "      <td>0.038396</td>\n",
              "      <td>0.033106</td>\n",
              "      <td>0.019064</td>\n",
              "      <td>0.235542</td>\n",
              "      <td>0.096173</td>\n",
              "    </tr>\n",
              "    <tr>\n",
              "      <th>ZJ001126</th>\n",
              "      <td>0.141850</td>\n",
              "      <td>0.103740</td>\n",
              "      <td>0.103334</td>\n",
              "      <td>0.004194</td>\n",
              "      <td>0.009475</td>\n",
              "      <td>0.017916</td>\n",
              "      <td>0.600941</td>\n",
              "      <td>0.018550</td>\n",
              "    </tr>\n",
              "    <tr>\n",
              "      <th>ZJ013411</th>\n",
              "      <td>0.280593</td>\n",
              "      <td>0.167351</td>\n",
              "      <td>0.118900</td>\n",
              "      <td>0.030433</td>\n",
              "      <td>0.046393</td>\n",
              "      <td>0.024362</td>\n",
              "      <td>0.228748</td>\n",
              "      <td>0.103220</td>\n",
              "    </tr>\n",
              "    <tr>\n",
              "      <th>...</th>\n",
              "      <td>...</td>\n",
              "      <td>...</td>\n",
              "      <td>...</td>\n",
              "      <td>...</td>\n",
              "      <td>...</td>\n",
              "      <td>...</td>\n",
              "      <td>...</td>\n",
              "      <td>...</td>\n",
              "    </tr>\n",
              "    <tr>\n",
              "      <th>ZJ014794</th>\n",
              "      <td>0.142267</td>\n",
              "      <td>0.174787</td>\n",
              "      <td>0.214486</td>\n",
              "      <td>0.007502</td>\n",
              "      <td>0.037294</td>\n",
              "      <td>0.124162</td>\n",
              "      <td>0.265044</td>\n",
              "      <td>0.034457</td>\n",
              "    </tr>\n",
              "    <tr>\n",
              "      <th>ZJ009406</th>\n",
              "      <td>0.173780</td>\n",
              "      <td>0.093664</td>\n",
              "      <td>0.059791</td>\n",
              "      <td>0.002720</td>\n",
              "      <td>0.005577</td>\n",
              "      <td>0.008981</td>\n",
              "      <td>0.640958</td>\n",
              "      <td>0.014531</td>\n",
              "    </tr>\n",
              "    <tr>\n",
              "      <th>ZJ007374</th>\n",
              "      <td>0.261504</td>\n",
              "      <td>0.203067</td>\n",
              "      <td>0.116001</td>\n",
              "      <td>0.019429</td>\n",
              "      <td>0.038085</td>\n",
              "      <td>0.027982</td>\n",
              "      <td>0.263772</td>\n",
              "      <td>0.070159</td>\n",
              "    </tr>\n",
              "    <tr>\n",
              "      <th>ZJ012352</th>\n",
              "      <td>0.210236</td>\n",
              "      <td>0.235247</td>\n",
              "      <td>0.131069</td>\n",
              "      <td>0.015790</td>\n",
              "      <td>0.048082</td>\n",
              "      <td>0.049173</td>\n",
              "      <td>0.255138</td>\n",
              "      <td>0.055265</td>\n",
              "    </tr>\n",
              "    <tr>\n",
              "      <th>ZJ016391</th>\n",
              "      <td>0.113720</td>\n",
              "      <td>0.101238</td>\n",
              "      <td>0.293731</td>\n",
              "      <td>0.009633</td>\n",
              "      <td>0.031778</td>\n",
              "      <td>0.211299</td>\n",
              "      <td>0.202442</td>\n",
              "      <td>0.036159</td>\n",
              "    </tr>\n",
              "  </tbody>\n",
              "</table>\n",
              "<p>2061 rows × 8 columns</p>\n",
              "</div>\n",
              "    <div class=\"colab-df-buttons\">\n",
              "\n",
              "  <div class=\"colab-df-container\">\n",
              "    <button class=\"colab-df-convert\" onclick=\"convertToInteractive('df-88ba94ee-24da-4075-95e1-703cd0f8cc1a')\"\n",
              "            title=\"Convert this dataframe to an interactive table.\"\n",
              "            style=\"display:none;\">\n",
              "\n",
              "  <svg xmlns=\"http://www.w3.org/2000/svg\" height=\"24px\" viewBox=\"0 -960 960 960\">\n",
              "    <path d=\"M120-120v-720h720v720H120Zm60-500h600v-160H180v160Zm220 220h160v-160H400v160Zm0 220h160v-160H400v160ZM180-400h160v-160H180v160Zm440 0h160v-160H620v160ZM180-180h160v-160H180v160Zm440 0h160v-160H620v160Z\"/>\n",
              "  </svg>\n",
              "    </button>\n",
              "\n",
              "  <style>\n",
              "    .colab-df-container {\n",
              "      display:flex;\n",
              "      gap: 12px;\n",
              "    }\n",
              "\n",
              "    .colab-df-convert {\n",
              "      background-color: #E8F0FE;\n",
              "      border: none;\n",
              "      border-radius: 50%;\n",
              "      cursor: pointer;\n",
              "      display: none;\n",
              "      fill: #1967D2;\n",
              "      height: 32px;\n",
              "      padding: 0 0 0 0;\n",
              "      width: 32px;\n",
              "    }\n",
              "\n",
              "    .colab-df-convert:hover {\n",
              "      background-color: #E2EBFA;\n",
              "      box-shadow: 0px 1px 2px rgba(60, 64, 67, 0.3), 0px 1px 3px 1px rgba(60, 64, 67, 0.15);\n",
              "      fill: #174EA6;\n",
              "    }\n",
              "\n",
              "    .colab-df-buttons div {\n",
              "      margin-bottom: 4px;\n",
              "    }\n",
              "\n",
              "    [theme=dark] .colab-df-convert {\n",
              "      background-color: #3B4455;\n",
              "      fill: #D2E3FC;\n",
              "    }\n",
              "\n",
              "    [theme=dark] .colab-df-convert:hover {\n",
              "      background-color: #434B5C;\n",
              "      box-shadow: 0px 1px 3px 1px rgba(0, 0, 0, 0.15);\n",
              "      filter: drop-shadow(0px 1px 2px rgba(0, 0, 0, 0.3));\n",
              "      fill: #FFFFFF;\n",
              "    }\n",
              "  </style>\n",
              "\n",
              "    <script>\n",
              "      const buttonEl =\n",
              "        document.querySelector('#df-88ba94ee-24da-4075-95e1-703cd0f8cc1a button.colab-df-convert');\n",
              "      buttonEl.style.display =\n",
              "        google.colab.kernel.accessAllowed ? 'block' : 'none';\n",
              "\n",
              "      async function convertToInteractive(key) {\n",
              "        const element = document.querySelector('#df-88ba94ee-24da-4075-95e1-703cd0f8cc1a');\n",
              "        const dataTable =\n",
              "          await google.colab.kernel.invokeFunction('convertToInteractive',\n",
              "                                                    [key], {});\n",
              "        if (!dataTable) return;\n",
              "\n",
              "        const docLinkHtml = 'Like what you see? Visit the ' +\n",
              "          '<a target=\"_blank\" href=https://colab.research.google.com/notebooks/data_table.ipynb>data table notebook</a>'\n",
              "          + ' to learn more about interactive tables.';\n",
              "        element.innerHTML = '';\n",
              "        dataTable['output_type'] = 'display_data';\n",
              "        await google.colab.output.renderOutput(dataTable, element);\n",
              "        const docLink = document.createElement('div');\n",
              "        docLink.innerHTML = docLinkHtml;\n",
              "        element.appendChild(docLink);\n",
              "      }\n",
              "    </script>\n",
              "  </div>\n",
              "\n",
              "\n",
              "<div id=\"df-b174a451-98d6-4a06-a761-274b8eb108d4\">\n",
              "  <button class=\"colab-df-quickchart\" onclick=\"quickchart('df-b174a451-98d6-4a06-a761-274b8eb108d4')\"\n",
              "            title=\"Suggest charts\"\n",
              "            style=\"display:none;\">\n",
              "\n",
              "<svg xmlns=\"http://www.w3.org/2000/svg\" height=\"24px\"viewBox=\"0 0 24 24\"\n",
              "     width=\"24px\">\n",
              "    <g>\n",
              "        <path d=\"M19 3H5c-1.1 0-2 .9-2 2v14c0 1.1.9 2 2 2h14c1.1 0 2-.9 2-2V5c0-1.1-.9-2-2-2zM9 17H7v-7h2v7zm4 0h-2V7h2v10zm4 0h-2v-4h2v4z\"/>\n",
              "    </g>\n",
              "</svg>\n",
              "  </button>\n",
              "\n",
              "<style>\n",
              "  .colab-df-quickchart {\n",
              "      --bg-color: #E8F0FE;\n",
              "      --fill-color: #1967D2;\n",
              "      --hover-bg-color: #E2EBFA;\n",
              "      --hover-fill-color: #174EA6;\n",
              "      --disabled-fill-color: #AAA;\n",
              "      --disabled-bg-color: #DDD;\n",
              "  }\n",
              "\n",
              "  [theme=dark] .colab-df-quickchart {\n",
              "      --bg-color: #3B4455;\n",
              "      --fill-color: #D2E3FC;\n",
              "      --hover-bg-color: #434B5C;\n",
              "      --hover-fill-color: #FFFFFF;\n",
              "      --disabled-bg-color: #3B4455;\n",
              "      --disabled-fill-color: #666;\n",
              "  }\n",
              "\n",
              "  .colab-df-quickchart {\n",
              "    background-color: var(--bg-color);\n",
              "    border: none;\n",
              "    border-radius: 50%;\n",
              "    cursor: pointer;\n",
              "    display: none;\n",
              "    fill: var(--fill-color);\n",
              "    height: 32px;\n",
              "    padding: 0;\n",
              "    width: 32px;\n",
              "  }\n",
              "\n",
              "  .colab-df-quickchart:hover {\n",
              "    background-color: var(--hover-bg-color);\n",
              "    box-shadow: 0 1px 2px rgba(60, 64, 67, 0.3), 0 1px 3px 1px rgba(60, 64, 67, 0.15);\n",
              "    fill: var(--button-hover-fill-color);\n",
              "  }\n",
              "\n",
              "  .colab-df-quickchart-complete:disabled,\n",
              "  .colab-df-quickchart-complete:disabled:hover {\n",
              "    background-color: var(--disabled-bg-color);\n",
              "    fill: var(--disabled-fill-color);\n",
              "    box-shadow: none;\n",
              "  }\n",
              "\n",
              "  .colab-df-spinner {\n",
              "    border: 2px solid var(--fill-color);\n",
              "    border-color: transparent;\n",
              "    border-bottom-color: var(--fill-color);\n",
              "    animation:\n",
              "      spin 1s steps(1) infinite;\n",
              "  }\n",
              "\n",
              "  @keyframes spin {\n",
              "    0% {\n",
              "      border-color: transparent;\n",
              "      border-bottom-color: var(--fill-color);\n",
              "      border-left-color: var(--fill-color);\n",
              "    }\n",
              "    20% {\n",
              "      border-color: transparent;\n",
              "      border-left-color: var(--fill-color);\n",
              "      border-top-color: var(--fill-color);\n",
              "    }\n",
              "    30% {\n",
              "      border-color: transparent;\n",
              "      border-left-color: var(--fill-color);\n",
              "      border-top-color: var(--fill-color);\n",
              "      border-right-color: var(--fill-color);\n",
              "    }\n",
              "    40% {\n",
              "      border-color: transparent;\n",
              "      border-right-color: var(--fill-color);\n",
              "      border-top-color: var(--fill-color);\n",
              "    }\n",
              "    60% {\n",
              "      border-color: transparent;\n",
              "      border-right-color: var(--fill-color);\n",
              "    }\n",
              "    80% {\n",
              "      border-color: transparent;\n",
              "      border-right-color: var(--fill-color);\n",
              "      border-bottom-color: var(--fill-color);\n",
              "    }\n",
              "    90% {\n",
              "      border-color: transparent;\n",
              "      border-bottom-color: var(--fill-color);\n",
              "    }\n",
              "  }\n",
              "</style>\n",
              "\n",
              "  <script>\n",
              "    async function quickchart(key) {\n",
              "      const quickchartButtonEl =\n",
              "        document.querySelector('#' + key + ' button');\n",
              "      quickchartButtonEl.disabled = true;  // To prevent multiple clicks.\n",
              "      quickchartButtonEl.classList.add('colab-df-spinner');\n",
              "      try {\n",
              "        const charts = await google.colab.kernel.invokeFunction(\n",
              "            'suggestCharts', [key], {});\n",
              "      } catch (error) {\n",
              "        console.error('Error during call to suggestCharts:', error);\n",
              "      }\n",
              "      quickchartButtonEl.classList.remove('colab-df-spinner');\n",
              "      quickchartButtonEl.classList.add('colab-df-quickchart-complete');\n",
              "    }\n",
              "    (() => {\n",
              "      let quickchartButtonEl =\n",
              "        document.querySelector('#df-b174a451-98d6-4a06-a761-274b8eb108d4 button');\n",
              "      quickchartButtonEl.style.display =\n",
              "        google.colab.kernel.accessAllowed ? 'block' : 'none';\n",
              "    })();\n",
              "  </script>\n",
              "</div>\n",
              "\n",
              "  <div id=\"id_3ca4d9b3-e56a-42c2-8cc3-7654e638d094\">\n",
              "    <style>\n",
              "      .colab-df-generate {\n",
              "        background-color: #E8F0FE;\n",
              "        border: none;\n",
              "        border-radius: 50%;\n",
              "        cursor: pointer;\n",
              "        display: none;\n",
              "        fill: #1967D2;\n",
              "        height: 32px;\n",
              "        padding: 0 0 0 0;\n",
              "        width: 32px;\n",
              "      }\n",
              "\n",
              "      .colab-df-generate:hover {\n",
              "        background-color: #E2EBFA;\n",
              "        box-shadow: 0px 1px 2px rgba(60, 64, 67, 0.3), 0px 1px 3px 1px rgba(60, 64, 67, 0.15);\n",
              "        fill: #174EA6;\n",
              "      }\n",
              "\n",
              "      [theme=dark] .colab-df-generate {\n",
              "        background-color: #3B4455;\n",
              "        fill: #D2E3FC;\n",
              "      }\n",
              "\n",
              "      [theme=dark] .colab-df-generate:hover {\n",
              "        background-color: #434B5C;\n",
              "        box-shadow: 0px 1px 3px 1px rgba(0, 0, 0, 0.15);\n",
              "        filter: drop-shadow(0px 1px 2px rgba(0, 0, 0, 0.3));\n",
              "        fill: #FFFFFF;\n",
              "      }\n",
              "    </style>\n",
              "    <button class=\"colab-df-generate\" onclick=\"generateWithVariable('eval_preds_df')\"\n",
              "            title=\"Generate code using this dataframe.\"\n",
              "            style=\"display:none;\">\n",
              "\n",
              "  <svg xmlns=\"http://www.w3.org/2000/svg\" height=\"24px\"viewBox=\"0 0 24 24\"\n",
              "       width=\"24px\">\n",
              "    <path d=\"M7,19H8.4L18.45,9,17,7.55,7,17.6ZM5,21V16.75L18.45,3.32a2,2,0,0,1,2.83,0l1.4,1.43a1.91,1.91,0,0,1,.58,1.4,1.91,1.91,0,0,1-.58,1.4L9.25,21ZM18.45,9,17,7.55Zm-12,3A5.31,5.31,0,0,0,4.9,8.1,5.31,5.31,0,0,0,1,6.5,5.31,5.31,0,0,0,4.9,4.9,5.31,5.31,0,0,0,6.5,1,5.31,5.31,0,0,0,8.1,4.9,5.31,5.31,0,0,0,12,6.5,5.46,5.46,0,0,0,6.5,12Z\"/>\n",
              "  </svg>\n",
              "    </button>\n",
              "    <script>\n",
              "      (() => {\n",
              "      const buttonEl =\n",
              "        document.querySelector('#id_3ca4d9b3-e56a-42c2-8cc3-7654e638d094 button.colab-df-generate');\n",
              "      buttonEl.style.display =\n",
              "        google.colab.kernel.accessAllowed ? 'block' : 'none';\n",
              "\n",
              "      buttonEl.onclick = () => {\n",
              "        google.colab.notebook.generateWithVariable('eval_preds_df');\n",
              "      }\n",
              "      })();\n",
              "    </script>\n",
              "  </div>\n",
              "\n",
              "    </div>\n",
              "  </div>\n"
            ],
            "application/vnd.google.colaboratory.intrinsic+json": {
              "type": "dataframe",
              "variable_name": "eval_preds_df",
              "summary": "{\n  \"name\": \"eval_preds_df\",\n  \"rows\": 2061,\n  \"fields\": [\n    {\n      \"column\": \"antelope_duiker\",\n      \"properties\": {\n        \"dtype\": \"float32\",\n        \"num_unique_values\": 2061,\n        \"samples\": [\n          0.05341843143105507,\n          0.23603102564811707,\n          0.007833865471184254\n        ],\n        \"semantic_type\": \"\",\n        \"description\": \"\"\n      }\n    },\n    {\n      \"column\": \"bird\",\n      \"properties\": {\n        \"dtype\": \"float32\",\n        \"num_unique_values\": 2061,\n        \"samples\": [\n          0.0281837098300457,\n          0.21645565330982208,\n          0.0006323676789179444\n        ],\n        \"semantic_type\": \"\",\n        \"description\": \"\"\n      }\n    },\n    {\n      \"column\": \"blank\",\n      \"properties\": {\n        \"dtype\": \"float32\",\n        \"num_unique_values\": 2061,\n        \"samples\": [\n          0.09444507211446762,\n          0.10129337012767792,\n          0.007722665090113878\n        ],\n        \"semantic_type\": \"\",\n        \"description\": \"\"\n      }\n    },\n    {\n      \"column\": \"civet_genet\",\n      \"properties\": {\n        \"dtype\": \"float32\",\n        \"num_unique_values\": 2061,\n        \"samples\": [\n          0.007228640373796225,\n          0.009877066127955914,\n          0.8856338858604431\n        ],\n        \"semantic_type\": \"\",\n        \"description\": \"\"\n      }\n    },\n    {\n      \"column\": \"hog\",\n      \"properties\": {\n        \"dtype\": \"float32\",\n        \"num_unique_values\": 2061,\n        \"samples\": [\n          0.19008974730968475,\n          0.04593377187848091,\n          0.0018441918073222041\n        ],\n        \"semantic_type\": \"\",\n        \"description\": \"\"\n      }\n    },\n    {\n      \"column\": \"leopard\",\n      \"properties\": {\n        \"dtype\": \"float32\",\n        \"num_unique_values\": 2061,\n        \"samples\": [\n          0.5576066970825195,\n          0.03523895516991615,\n          0.0014122980646789074\n        ],\n        \"semantic_type\": \"\",\n        \"description\": \"\"\n      }\n    },\n    {\n      \"column\": \"monkey_prosimian\",\n      \"properties\": {\n        \"dtype\": \"float32\",\n        \"num_unique_values\": 2061,\n        \"samples\": [\n          0.0338924266397953,\n          0.3118595778942108,\n          0.001398056629113853\n        ],\n        \"semantic_type\": \"\",\n        \"description\": \"\"\n      }\n    },\n    {\n      \"column\": \"rodent\",\n      \"properties\": {\n        \"dtype\": \"float32\",\n        \"num_unique_values\": 2061,\n        \"samples\": [\n          0.03513528034090996,\n          0.043310560286045074,\n          0.09352263808250427\n        ],\n        \"semantic_type\": \"\",\n        \"description\": \"\"\n      }\n    }\n  ]\n}"
            }
          },
          "metadata": {},
          "execution_count": 26
        }
      ],
      "source": [
        "preds_collector = []\n",
        "\n",
        "# put the model in eval mode so we don't update any parameters\n",
        "model.eval()\n",
        "\n",
        "# we aren't updating our weights so no need to calculate gradients\n",
        "with torch.no_grad():\n",
        "    for batch in tqdm(eval_dataloader, total=len(eval_dataloader)):\n",
        "\n",
        "        # 0) move to cuda\n",
        "        batch[\"image\"] = batch[\"image\"].to(device)\n",
        "        batch[\"label\"] = batch[\"label\"].to(device)\n",
        "\n",
        "        # 1) run the forward step\n",
        "        logits = model.forward(batch[\"image\"])\n",
        "        # 2) apply softmax so that model outputs are in range [0,1]\n",
        "        preds = nn.functional.softmax(logits, dim=1)\n",
        "        preds = preds.cpu()\n",
        "        # 3) store this batch's predictions in df\n",
        "        # note that PyTorch Tensors need to first be detached from their computational graph before converting to numpy arrays\n",
        "        preds_df = pd.DataFrame(\n",
        "            preds.detach().numpy(),\n",
        "            index=batch[\"image_id\"],\n",
        "            columns=species_labels,\n",
        "        )\n",
        "        preds_collector.append(preds_df)\n",
        "\n",
        "eval_preds_df = pd.concat(preds_collector)\n",
        "eval_preds_df"
      ]
    },
    {
      "cell_type": "markdown",
      "metadata": {
        "id": "YgV6ufYgoNc4"
      },
      "source": [
        "### Predicted labels distribution\n",
        "First let's review the species distribution we saw in the training set."
      ]
    },
    {
      "cell_type": "code",
      "execution_count": 27,
      "metadata": {
        "id": "N2g0L_5ToNc4",
        "colab": {
          "base_uri": "https://localhost:8080/",
          "height": 352
        },
        "outputId": "820324a4-4b8e-46b6-97fe-12238916edba"
      },
      "outputs": [
        {
          "output_type": "stream",
          "name": "stdout",
          "text": [
            "True labels (training):\n"
          ]
        },
        {
          "output_type": "execute_result",
          "data": {
            "text/plain": [
              "monkey_prosimian    973\n",
              "antelope_duiker     925\n",
              "civet_genet         896\n",
              "blank               860\n",
              "leopard             841\n",
              "rodent              732\n",
              "bird                608\n",
              "hog                 348\n",
              "Name: count, dtype: int64"
            ],
            "text/html": [
              "<div>\n",
              "<style scoped>\n",
              "    .dataframe tbody tr th:only-of-type {\n",
              "        vertical-align: middle;\n",
              "    }\n",
              "\n",
              "    .dataframe tbody tr th {\n",
              "        vertical-align: top;\n",
              "    }\n",
              "\n",
              "    .dataframe thead th {\n",
              "        text-align: right;\n",
              "    }\n",
              "</style>\n",
              "<table border=\"1\" class=\"dataframe\">\n",
              "  <thead>\n",
              "    <tr style=\"text-align: right;\">\n",
              "      <th></th>\n",
              "      <th>count</th>\n",
              "    </tr>\n",
              "  </thead>\n",
              "  <tbody>\n",
              "    <tr>\n",
              "      <th>monkey_prosimian</th>\n",
              "      <td>973</td>\n",
              "    </tr>\n",
              "    <tr>\n",
              "      <th>antelope_duiker</th>\n",
              "      <td>925</td>\n",
              "    </tr>\n",
              "    <tr>\n",
              "      <th>civet_genet</th>\n",
              "      <td>896</td>\n",
              "    </tr>\n",
              "    <tr>\n",
              "      <th>blank</th>\n",
              "      <td>860</td>\n",
              "    </tr>\n",
              "    <tr>\n",
              "      <th>leopard</th>\n",
              "      <td>841</td>\n",
              "    </tr>\n",
              "    <tr>\n",
              "      <th>rodent</th>\n",
              "      <td>732</td>\n",
              "    </tr>\n",
              "    <tr>\n",
              "      <th>bird</th>\n",
              "      <td>608</td>\n",
              "    </tr>\n",
              "    <tr>\n",
              "      <th>hog</th>\n",
              "      <td>348</td>\n",
              "    </tr>\n",
              "  </tbody>\n",
              "</table>\n",
              "</div><br><label><b>dtype:</b> int64</label>"
            ]
          },
          "metadata": {},
          "execution_count": 27
        }
      ],
      "source": [
        "print(\"True labels (training):\")\n",
        "y_train.idxmax(axis=1).value_counts()"
      ]
    },
    {
      "cell_type": "markdown",
      "metadata": {
        "id": "rRXV4re-oNc4"
      },
      "source": [
        "Here's the distribution of our predictions on the eval set."
      ]
    },
    {
      "cell_type": "code",
      "execution_count": 28,
      "metadata": {
        "id": "vWX911uRoNc5",
        "colab": {
          "base_uri": "https://localhost:8080/",
          "height": 352
        },
        "outputId": "cdef6e04-a44c-458e-9efe-2cbb811c98cd"
      },
      "outputs": [
        {
          "output_type": "stream",
          "name": "stdout",
          "text": [
            "Predicted labels (eval):\n"
          ]
        },
        {
          "output_type": "execute_result",
          "data": {
            "text/plain": [
              "monkey_prosimian    817\n",
              "civet_genet         330\n",
              "leopard             329\n",
              "rodent              239\n",
              "antelope_duiker     187\n",
              "blank                91\n",
              "bird                 51\n",
              "hog                  17\n",
              "Name: count, dtype: int64"
            ],
            "text/html": [
              "<div>\n",
              "<style scoped>\n",
              "    .dataframe tbody tr th:only-of-type {\n",
              "        vertical-align: middle;\n",
              "    }\n",
              "\n",
              "    .dataframe tbody tr th {\n",
              "        vertical-align: top;\n",
              "    }\n",
              "\n",
              "    .dataframe thead th {\n",
              "        text-align: right;\n",
              "    }\n",
              "</style>\n",
              "<table border=\"1\" class=\"dataframe\">\n",
              "  <thead>\n",
              "    <tr style=\"text-align: right;\">\n",
              "      <th></th>\n",
              "      <th>count</th>\n",
              "    </tr>\n",
              "  </thead>\n",
              "  <tbody>\n",
              "    <tr>\n",
              "      <th>monkey_prosimian</th>\n",
              "      <td>817</td>\n",
              "    </tr>\n",
              "    <tr>\n",
              "      <th>civet_genet</th>\n",
              "      <td>330</td>\n",
              "    </tr>\n",
              "    <tr>\n",
              "      <th>leopard</th>\n",
              "      <td>329</td>\n",
              "    </tr>\n",
              "    <tr>\n",
              "      <th>rodent</th>\n",
              "      <td>239</td>\n",
              "    </tr>\n",
              "    <tr>\n",
              "      <th>antelope_duiker</th>\n",
              "      <td>187</td>\n",
              "    </tr>\n",
              "    <tr>\n",
              "      <th>blank</th>\n",
              "      <td>91</td>\n",
              "    </tr>\n",
              "    <tr>\n",
              "      <th>bird</th>\n",
              "      <td>51</td>\n",
              "    </tr>\n",
              "    <tr>\n",
              "      <th>hog</th>\n",
              "      <td>17</td>\n",
              "    </tr>\n",
              "  </tbody>\n",
              "</table>\n",
              "</div><br><label><b>dtype:</b> int64</label>"
            ]
          },
          "metadata": {},
          "execution_count": 28
        }
      ],
      "source": [
        "print(\"Predicted labels (eval):\")\n",
        "eval_preds_df.idxmax(axis=1).value_counts()"
      ]
    },
    {
      "cell_type": "markdown",
      "metadata": {
        "id": "DUF1fd5koNc5"
      },
      "source": [
        "The actual evaluation set is more evenly distributed than our predictions, so we already know there is some room for improvement here."
      ]
    },
    {
      "cell_type": "code",
      "execution_count": 29,
      "metadata": {
        "id": "B5BvQZ9eoNc5",
        "colab": {
          "base_uri": "https://localhost:8080/",
          "height": 352
        },
        "outputId": "72f6a3d6-2259-463e-8ada-b125da7610a3"
      },
      "outputs": [
        {
          "output_type": "stream",
          "name": "stdout",
          "text": [
            "True labels (eval):\n"
          ]
        },
        {
          "output_type": "execute_result",
          "data": {
            "text/plain": [
              "monkey_prosimian    325\n",
              "antelope_duiker     308\n",
              "civet_genet         298\n",
              "blank               287\n",
              "leopard             280\n",
              "rodent              244\n",
              "bird                203\n",
              "hog                 116\n",
              "Name: count, dtype: int64"
            ],
            "text/html": [
              "<div>\n",
              "<style scoped>\n",
              "    .dataframe tbody tr th:only-of-type {\n",
              "        vertical-align: middle;\n",
              "    }\n",
              "\n",
              "    .dataframe tbody tr th {\n",
              "        vertical-align: top;\n",
              "    }\n",
              "\n",
              "    .dataframe thead th {\n",
              "        text-align: right;\n",
              "    }\n",
              "</style>\n",
              "<table border=\"1\" class=\"dataframe\">\n",
              "  <thead>\n",
              "    <tr style=\"text-align: right;\">\n",
              "      <th></th>\n",
              "      <th>count</th>\n",
              "    </tr>\n",
              "  </thead>\n",
              "  <tbody>\n",
              "    <tr>\n",
              "      <th>monkey_prosimian</th>\n",
              "      <td>325</td>\n",
              "    </tr>\n",
              "    <tr>\n",
              "      <th>antelope_duiker</th>\n",
              "      <td>308</td>\n",
              "    </tr>\n",
              "    <tr>\n",
              "      <th>civet_genet</th>\n",
              "      <td>298</td>\n",
              "    </tr>\n",
              "    <tr>\n",
              "      <th>blank</th>\n",
              "      <td>287</td>\n",
              "    </tr>\n",
              "    <tr>\n",
              "      <th>leopard</th>\n",
              "      <td>280</td>\n",
              "    </tr>\n",
              "    <tr>\n",
              "      <th>rodent</th>\n",
              "      <td>244</td>\n",
              "    </tr>\n",
              "    <tr>\n",
              "      <th>bird</th>\n",
              "      <td>203</td>\n",
              "    </tr>\n",
              "    <tr>\n",
              "      <th>hog</th>\n",
              "      <td>116</td>\n",
              "    </tr>\n",
              "  </tbody>\n",
              "</table>\n",
              "</div><br><label><b>dtype:</b> int64</label>"
            ]
          },
          "metadata": {},
          "execution_count": 29
        }
      ],
      "source": [
        "print(\"True labels (eval):\")\n",
        "y_eval.idxmax(axis=1).value_counts()"
      ]
    },
    {
      "cell_type": "markdown",
      "metadata": {
        "id": "WJU6-vl5oNc6"
      },
      "source": [
        "### Accuracy\n",
        "Now let's compute how accurate our model is and compare that against some trivial baseline models. First let's get the labels with the highest score for each image."
      ]
    },
    {
      "cell_type": "code",
      "execution_count": 30,
      "metadata": {
        "id": "7jJH2NQvoNc6",
        "colab": {
          "base_uri": "https://localhost:8080/",
          "height": 241
        },
        "outputId": "fe56a43c-62b8-4099-9a31-468f98fd4c10"
      },
      "outputs": [
        {
          "output_type": "execute_result",
          "data": {
            "text/plain": [
              "ZJ008045     antelope_duiker\n",
              "ZJ015719             leopard\n",
              "ZJ013543     antelope_duiker\n",
              "ZJ001126    monkey_prosimian\n",
              "ZJ013411     antelope_duiker\n",
              "dtype: object"
            ],
            "text/html": [
              "<div>\n",
              "<style scoped>\n",
              "    .dataframe tbody tr th:only-of-type {\n",
              "        vertical-align: middle;\n",
              "    }\n",
              "\n",
              "    .dataframe tbody tr th {\n",
              "        vertical-align: top;\n",
              "    }\n",
              "\n",
              "    .dataframe thead th {\n",
              "        text-align: right;\n",
              "    }\n",
              "</style>\n",
              "<table border=\"1\" class=\"dataframe\">\n",
              "  <thead>\n",
              "    <tr style=\"text-align: right;\">\n",
              "      <th></th>\n",
              "      <th>0</th>\n",
              "    </tr>\n",
              "  </thead>\n",
              "  <tbody>\n",
              "    <tr>\n",
              "      <th>ZJ008045</th>\n",
              "      <td>antelope_duiker</td>\n",
              "    </tr>\n",
              "    <tr>\n",
              "      <th>ZJ015719</th>\n",
              "      <td>leopard</td>\n",
              "    </tr>\n",
              "    <tr>\n",
              "      <th>ZJ013543</th>\n",
              "      <td>antelope_duiker</td>\n",
              "    </tr>\n",
              "    <tr>\n",
              "      <th>ZJ001126</th>\n",
              "      <td>monkey_prosimian</td>\n",
              "    </tr>\n",
              "    <tr>\n",
              "      <th>ZJ013411</th>\n",
              "      <td>antelope_duiker</td>\n",
              "    </tr>\n",
              "  </tbody>\n",
              "</table>\n",
              "</div><br><label><b>dtype:</b> object</label>"
            ]
          },
          "metadata": {},
          "execution_count": 30
        }
      ],
      "source": [
        "eval_predictions = eval_preds_df.idxmax(axis=1)\n",
        "eval_predictions.head()"
      ]
    },
    {
      "cell_type": "markdown",
      "metadata": {
        "id": "keYwUGQboNc6"
      },
      "source": [
        "Random guessing across 8 classes would yield an accuracy of 12.5% (1/8). But we could construct a slightly better trivial model by always guessing the most common class (\"monkey_prosimian\" images in this case).\n",
        "\n",
        "If we were to always guess that an image is `monkey_prosimian`, we could achieve accuracy of 15.8%."
      ]
    },
    {
      "cell_type": "code",
      "execution_count": 31,
      "metadata": {
        "id": "_cTdNy1GoNc6",
        "colab": {
          "base_uri": "https://localhost:8080/"
        },
        "outputId": "12668895-9cb5-4ab8-da3e-9fe1d2e78653"
      },
      "outputs": [
        {
          "output_type": "execute_result",
          "data": {
            "text/plain": [
              "0.1576904415332363"
            ]
          },
          "metadata": {},
          "execution_count": 31
        }
      ],
      "source": [
        "eval_true = y_eval.idxmax(axis=1)\n",
        "\n",
        "(eval_true == \"monkey_prosimian\").sum() / len(eval_predictions)"
      ]
    },
    {
      "cell_type": "markdown",
      "metadata": {
        "id": "T_-jzy5NoNc7"
      },
      "source": [
        "Let's see how our model compares. We take the species with the highest score for each image (`eval_predictions`) and compare that to the true labels."
      ]
    },
    {
      "cell_type": "code",
      "execution_count": 32,
      "metadata": {
        "id": "9WX86SVFoNc7",
        "colab": {
          "base_uri": "https://localhost:8080/"
        },
        "outputId": "5c35e6a4-f512-4d90-f8d8-b7c1c09eec95"
      },
      "outputs": [
        {
          "output_type": "execute_result",
          "data": {
            "text/plain": [
              "0.5308102862688016"
            ]
          },
          "metadata": {},
          "execution_count": 32
        }
      ],
      "source": [
        "correct = (eval_predictions == eval_true).sum()\n",
        "accuracy = correct / len(eval_predictions)\n",
        "accuracy"
      ]
    },
    {
      "cell_type": "markdown",
      "metadata": {
        "id": "sG6RnzApoNc7"
      },
      "source": [
        "Our accuracy on the evaluation set is about 50%, which is not a bad start for a very simple first pass and one epoch of training."
      ]
    },
    {
      "cell_type": "markdown",
      "metadata": {
        "id": "LgHcVHa0oNc7"
      },
      "source": [
        "Let's look at the predictions from another angle.\n",
        "\n",
        "We can see from the confusion matrix below that our model does reasonably well on some species, but we have plenty of room for improvement on antelopes, birds, hogs and blanks."
      ]
    },
    {
      "cell_type": "code",
      "execution_count": 33,
      "metadata": {
        "id": "9BWTh1wioNc8",
        "colab": {
          "base_uri": "https://localhost:8080/",
          "height": 892
        },
        "outputId": "8632f3f7-42fe-48c0-c33b-21c1c4dc52f5"
      },
      "outputs": [
        {
          "output_type": "display_data",
          "data": {
            "text/plain": [
              "<Figure size 1000x1000 with 2 Axes>"
            ],
            "image/png": "[encoded data removed]"
          },
          "metadata": {}
        }
      ],
      "source": [
        "from sklearn.metrics import ConfusionMatrixDisplay\n",
        "\n",
        "fig, ax = plt.subplots(figsize=(10, 10))\n",
        "cm = ConfusionMatrixDisplay.from_predictions(\n",
        "    y_eval.idxmax(axis=1),\n",
        "    eval_preds_df.idxmax(axis=1),\n",
        "    ax=ax,\n",
        "    xticks_rotation=90,\n",
        "    colorbar=True,\n",
        ")"
      ]
    },
    {
      "cell_type": "markdown",
      "metadata": {
        "id": "nJ6-UHc0oNc-"
      },
      "source": [
        "Looks like we're ready to submit! Save the dataframe out to a CSV file and then upload it via the [Submissions page](https://www.drivendata.org/competitions/87/competition-image-classification-wildlife-conservation/submissions/) on the competition website."
      ]
    },
    {
      "cell_type": "markdown",
      "source": [
        "| Loss Function    | Accuracy |\n",
        "|------------------|----------|\n",
        "| CrossEntropyLoss |0.53954391072295|\n",
        "| KLDivergence     | 0.529839883551674 |\n",
        "| Focal Loss       | 0.4983017952450267    |\n",
        "| LabelSmoothing   | 0.5104318292091218"
      ],
      "metadata": {
        "id": "1bYiphUaOW9o"
      }
    }
  ],
  "metadata": {
    "accelerator": "GPU",
    "anaconda-cloud": {},
    "colab": {
      "gpuType": "T4",
      "provenance": []
    },
    "kernelspec": {
      "display_name": "Python 3",
      "name": "python3"
    },
    "language_info": {
      "codemirror_mode": {
        "name": "ipython",
        "version": 3
      },
      "file_extension": ".py",
      "mimetype": "text/x-python",
      "name": "python",
      "nbconvert_exporter": "python",
      "pygments_lexer": "ipython3",
      "version": "3.11.9"
    }
  },
  "nbformat": 4,
  "nbformat_minor": 0
}